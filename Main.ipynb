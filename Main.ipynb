{
 "cells": [
  {
   "cell_type": "markdown",
   "id": "df938bed-5bb4-4987-9cb9-7dfd8b71eccb",
   "metadata": {},
   "source": [
    "<div style=\"float:left\">\n",
    "    <h1 style=\"width:600px\">Technical assessment</h1>\n",
    "    <h3 style=\"width:600px\">Solution Engineer position</h3>\n",
    "    <h3 style=\"width:600px\">Author: Andres Restrepo</h3>\n",
    "\n",
    "</div>\n",
    "<div style=\"float: right; display: flex; align-items: center;\">\n",
    "    <img width=\"260\" src=\"Logo/logo_CARTO_positive_180.png\" />\n",
    "</div>"
   ]
  },
  {
   "cell_type": "markdown",
   "id": "66ec8d0b-319a-49c4-afe2-e536b0c6d317",
   "metadata": {},
   "source": [
    "## Libraries"
   ]
  },
  {
   "cell_type": "code",
   "execution_count": null,
   "id": "0a0c165b-70cc-4019-baf0-b86e48148fc0",
   "metadata": {},
   "outputs": [],
   "source": [
    "#pip install rarfile"
   ]
  },
  {
   "cell_type": "code",
   "execution_count": null,
   "id": "4f352ae5-f10b-4224-9b7a-35a57b25ca77",
   "metadata": {},
   "outputs": [],
   "source": [
    "import geopandas as gpd\n",
    "import numpy as np\n",
    "import pandas as pd\n",
    "import shapely\n",
    "import matplotlib.pyplot as plt\n",
    "\n",
    "import zipfile\n",
    "import rarfile\n",
    "#import seaborn as sns"
   ]
  },
  {
   "cell_type": "code",
   "execution_count": null,
   "id": "78fa8103-4208-486c-9abe-4548e2ba4653",
   "metadata": {},
   "outputs": [],
   "source": [
    "# # Setting theme\n",
    "# sns.set_theme()"
   ]
  },
  {
   "cell_type": "markdown",
   "id": "3af02b6b-d016-429e-b2d0-59977da0454e",
   "metadata": {},
   "source": [
    "# Data"
   ]
  },
  {
   "cell_type": "markdown",
   "id": "641fe86f-dfa9-414c-9f60-98480796961a",
   "metadata": {
    "tags": []
   },
   "source": [
    "## Download"
   ]
  },
  {
   "cell_type": "markdown",
   "id": "6aa5fb47-5d22-4834-9089-409972ae6d10",
   "metadata": {
    "tags": []
   },
   "source": [
    "### Jaguar records"
   ]
  },
  {
   "cell_type": "markdown",
   "id": "270c703a-9774-40d5-83ad-e480cb01cb93",
   "metadata": {},
   "source": [
    "The jaguar records data is downloaded from the CARTO stack platform."
   ]
  },
  {
   "cell_type": "code",
   "execution_count": null,
   "id": "e65831d6-014b-45e9-b23d-98205af1214a",
   "metadata": {},
   "outputs": [],
   "source": [
    "%%time\n",
    "with zipfile.ZipFile('Data/Jag/carto-data.zip', 'r') as zip_file:\n",
    "    with zip_file.open('puma_concolor.csv') as file:\n",
    "        # read data as datafame\n",
    "        raw_jag = pd.read_csv(file,low_memory=False)"
   ]
  },
  {
   "cell_type": "code",
   "execution_count": null,
   "id": "231c3101-84fb-4cb7-901a-c53d328587ea",
   "metadata": {},
   "outputs": [],
   "source": [
    "# Raw data reading\n",
    "raw_jag.head()"
   ]
  },
  {
   "cell_type": "code",
   "execution_count": null,
   "id": "1d6526f1-c249-4b09-935b-7ee2d78ca0fb",
   "metadata": {},
   "outputs": [],
   "source": [
    "# Data review\n",
    "raw_jag.info()"
   ]
  },
  {
   "cell_type": "markdown",
   "id": "a1e6f7df-acc1-4c6a-b348-23ba2568f0b1",
   "metadata": {
    "tags": []
   },
   "source": [
    "### Municipalties data"
   ]
  },
  {
   "cell_type": "markdown",
   "id": "a3ae86fc-d916-44b4-8af6-b234d5ae4d65",
   "metadata": {},
   "source": [
    "The municiplities boundaries data from Colombia is downloaded from the National Geostatistical Framework [(*Marco Geoestadistico Nacional*)](https://geoportal.dane.gov.co/servicios/descarga-y-metadatos/descarga-mgn-marco-geoestadistico-nacional/#gsc.tab=0) , published by the Colombian National Administrative and Statisticas Department [(*Departamento Administrativo Nacional de Estadistica*)](https://www.dane.gov.co/).\n",
    "\n",
    "Colombian municipalites data: [Shapefile](https://geoportal.dane.gov.co/descargas/mgn_2021/MGN2021_MPIO_POLITICO.rar)"
   ]
  },
  {
   "cell_type": "code",
   "execution_count": null,
   "id": "dcbb0e33-0383-49bf-a354-a600461d5a5e",
   "metadata": {},
   "outputs": [],
   "source": [
    "geo_mun = gpd.read_file('Data/Mun/MGN_MPIO_POLITICO.shp')"
   ]
  },
  {
   "cell_type": "code",
   "execution_count": null,
   "id": "f3df69a7-ae43-473b-84cc-a1efbfcc6761",
   "metadata": {},
   "outputs": [],
   "source": [
    "# Raw data reading\n",
    "geo_mun.head()"
   ]
  },
  {
   "cell_type": "code",
   "execution_count": null,
   "id": "20086a18-f2a1-4573-9583-03141f1c863d",
   "metadata": {},
   "outputs": [],
   "source": [
    "# Data review\n",
    "geo_mun.info()"
   ]
  },
  {
   "cell_type": "code",
   "execution_count": null,
   "id": "e3ea1a55-7c46-4e16-b9ea-c3861b46e55c",
   "metadata": {},
   "outputs": [],
   "source": [
    "# Geometry\n",
    "geo_mun.plot() "
   ]
  },
  {
   "cell_type": "code",
   "execution_count": null,
   "id": "8f4aeb7a-bde9-4c72-be1e-0ff83f447a04",
   "metadata": {},
   "outputs": [],
   "source": [
    "# CRS\n",
    "geo_mun.crs"
   ]
  },
  {
   "cell_type": "markdown",
   "id": "32eeafbe-4d25-468b-ab98-ad6e780f69af",
   "metadata": {},
   "source": [
    "### Natural parks data"
   ]
  },
  {
   "cell_type": "markdown",
   "id": "e5309b8a-587d-44ed-9258-d1de5811c928",
   "metadata": {},
   "source": [
    "The national parks data represents the boundaries of restricted and conservations areas under the management of central government envirnmental authorities. Municipalities with area within these limits would have restricted area to host the jaguar ecosystem and greater support from the central government in that matter.\n",
    "\n",
    "The national park boundaries data is available in [ESRI Open Data Hub](https://datosabiertos.esri.co/datasets/d4d80793ff604f7aa153f3cecbe0757e/explore)."
   ]
  },
  {
   "cell_type": "code",
   "execution_count": null,
   "id": "6e35ce90-8c52-42b7-a707-f2f753d3853a",
   "metadata": {
    "tags": []
   },
   "outputs": [],
   "source": [
    "geo_park = gpd.read_file('Data/Parks/Parques_Nacionales_Naturales_de_Colombia.shp')"
   ]
  },
  {
   "cell_type": "code",
   "execution_count": null,
   "id": "8d763136-7e6b-410d-9538-24359bce4f7b",
   "metadata": {},
   "outputs": [],
   "source": [
    "# Raw data reading\n",
    "geo_park.head()"
   ]
  },
  {
   "cell_type": "code",
   "execution_count": null,
   "id": "086a5687-9f6a-46a7-b51e-6bde443e81ec",
   "metadata": {},
   "outputs": [],
   "source": [
    "# Data review\n",
    "geo_park.info()"
   ]
  },
  {
   "cell_type": "code",
   "execution_count": null,
   "id": "21a6a7bf-6a51-4daf-8731-55a11aa7955a",
   "metadata": {},
   "outputs": [],
   "source": [
    "# Geometry\n",
    "geo_park.plot() "
   ]
  },
  {
   "cell_type": "code",
   "execution_count": null,
   "id": "0f95c4af-c28d-4bcc-99ea-31d4959c1435",
   "metadata": {},
   "outputs": [],
   "source": [
    "# CRS\n",
    "geo_park.crs"
   ]
  },
  {
   "cell_type": "markdown",
   "id": "418411e0-7288-457c-afac-df7e40b48f3f",
   "metadata": {},
   "source": [
    "## Reading"
   ]
  },
  {
   "cell_type": "markdown",
   "id": "68efcc2c-5613-4ab8-8e6b-277ed6542c52",
   "metadata": {},
   "source": [
    "### Jaguar records"
   ]
  },
  {
   "cell_type": "code",
   "execution_count": null,
   "id": "beb4ec0b-892b-4665-9e7f-9009cf46b06e",
   "metadata": {},
   "outputs": [],
   "source": [
    "# Set geometry\n",
    "#geometry = gpd.points_from_xy(raw_jag['longitude'], raw_jag['latitude'])"
   ]
  },
  {
   "cell_type": "code",
   "execution_count": null,
   "id": "0d009b00-e0a5-4ad7-87c8-5add9eca4838",
   "metadata": {},
   "outputs": [],
   "source": [
    "# Reading geopandas df\n",
    "geo_jag = gpd.GeoDataFrame(raw_jag, geometry=gpd.points_from_xy(raw_jag.longitude, raw_jag.latitude), crs=\"EPSG:4326\")"
   ]
  },
  {
   "cell_type": "code",
   "execution_count": null,
   "id": "a6b0e84d-c9cc-4179-9c7e-18b8c347c4ed",
   "metadata": {},
   "outputs": [],
   "source": [
    "# Data reading\n",
    "geo_jag.head()"
   ]
  },
  {
   "cell_type": "code",
   "execution_count": null,
   "id": "909db8da-6f6d-4305-bf47-1020dcdc7a19",
   "metadata": {},
   "outputs": [],
   "source": [
    "# Data review\n",
    "geo_jag.info()"
   ]
  },
  {
   "cell_type": "code",
   "execution_count": null,
   "id": "decb012a-b050-44d2-b4f6-af00288b0674",
   "metadata": {},
   "outputs": [],
   "source": [
    "# Geometry\n",
    "geo_jag.plot() "
   ]
  },
  {
   "cell_type": "code",
   "execution_count": null,
   "id": "0e7f1076-b3fb-404f-8ccb-0f485daa84c5",
   "metadata": {},
   "outputs": [],
   "source": [
    "# Setting CRS\n",
    "geo_jag = geo_jag.to_crs(crs=\"EPSG:4686\")"
   ]
  },
  {
   "cell_type": "code",
   "execution_count": null,
   "id": "d304f7cc-ad97-482c-9954-1cdcfc7a6838",
   "metadata": {},
   "outputs": [],
   "source": [
    "# Review new CRS\n",
    "geo_jag.crs"
   ]
  },
  {
   "cell_type": "markdown",
   "id": "e35c8c69-a1b3-4a0c-9368-8aa3301d4095",
   "metadata": {},
   "source": [
    "### Natural parks data"
   ]
  },
  {
   "cell_type": "code",
   "execution_count": null,
   "id": "ec633e08-382b-4147-8554-366fe86c9c08",
   "metadata": {},
   "outputs": [],
   "source": [
    "# Setting CRS\n",
    "geo_park = geo_park.to_crs(crs=\"EPSG:4686\")"
   ]
  },
  {
   "cell_type": "code",
   "execution_count": null,
   "id": "e76833a9-ab71-490b-aa94-d13f7180ed19",
   "metadata": {},
   "outputs": [],
   "source": [
    "# Review new CRS\n",
    "geo_park.crs"
   ]
  },
  {
   "cell_type": "markdown",
   "id": "1a5ce835-309d-42c8-acf9-83bead0e6046",
   "metadata": {},
   "source": [
    "## Subsetting"
   ]
  },
  {
   "cell_type": "markdown",
   "id": "5787fcc1-e3e8-4d0b-8920-e313000a42ee",
   "metadata": {},
   "source": [
    "### Spatial subsetting"
   ]
  },
  {
   "cell_type": "code",
   "execution_count": null,
   "id": "f7d4c83b-0bc1-4616-80db-0fd8a38a3660",
   "metadata": {},
   "outputs": [],
   "source": [
    "geo_jag_col = gpd.clip(geo_jag, geo_mun)"
   ]
  },
  {
   "cell_type": "code",
   "execution_count": null,
   "id": "be73915a-78ff-4ab4-935a-3cd846b7cc36",
   "metadata": {},
   "outputs": [],
   "source": [
    "geo_jag_col.shape"
   ]
  },
  {
   "cell_type": "code",
   "execution_count": null,
   "id": "fea56655-aaa3-42e9-a2da-5bacd3eb58b4",
   "metadata": {},
   "outputs": [],
   "source": [
    "geo_jag_col.head()"
   ]
  },
  {
   "cell_type": "code",
   "execution_count": null,
   "id": "ed98224c-44df-4b75-838b-71c69a9c470c",
   "metadata": {},
   "outputs": [],
   "source": [
    "# Geometry\n",
    "fig, ax = plt.subplots(1,1, figsize=(12,9))\n",
    "geo_jag_col.plot(ax=ax) "
   ]
  },
  {
   "cell_type": "markdown",
   "id": "d641132a-603f-46d0-9f67-2de38dc10ed8",
   "metadata": {},
   "source": [
    "## Spatial aggregation"
   ]
  },
  {
   "cell_type": "markdown",
   "id": "441d621f-100f-474a-bde0-bdf9c51f21dc",
   "metadata": {},
   "source": [
    "### Record count"
   ]
  },
  {
   "cell_type": "code",
   "execution_count": null,
   "id": "91d3c37c-0759-4fc9-8f62-f6e68625aeff",
   "metadata": {},
   "outputs": [],
   "source": [
    "# Create a record count column\n",
    "geo_mun['record_count'] = 0"
   ]
  },
  {
   "cell_type": "code",
   "execution_count": null,
   "id": "e5ca713a-fad1-412b-a4ab-5b2a2d43f6cc",
   "metadata": {},
   "outputs": [],
   "source": [
    "# Count number of record in each municipality\n",
    "for index, mun in geo_mun.iterrows():\n",
    "    # Filter points that intersect with the current polygon\n",
    "    intersecting_points = geo_jag_col[geo_jag_col.intersects(mun.geometry)]\n",
    "    \n",
    "    # Count the number of intersecting points\n",
    "    count = len(intersecting_points)\n",
    "    \n",
    "    # Store the count in the 'point_count' column\n",
    "    geo_mun.loc[index, 'record_count'] = count\n",
    "\n"
   ]
  },
  {
   "cell_type": "code",
   "execution_count": null,
   "id": "1d57c755-e613-453c-8a6a-2527a30d932f",
   "metadata": {},
   "outputs": [],
   "source": [
    "geo_mun.head()"
   ]
  },
  {
   "cell_type": "code",
   "execution_count": null,
   "id": "59b3b626-b4f6-4df3-88a7-1364d77c4c40",
   "metadata": {},
   "outputs": [],
   "source": [
    "geo_mun['record_count'].describe()"
   ]
  },
  {
   "cell_type": "code",
   "execution_count": null,
   "id": "38fe74a5-499c-4242-a4b5-064e5b870143",
   "metadata": {},
   "outputs": [],
   "source": [
    "# Plotting by record count\n",
    "fig, ax = plt.subplots(1,1, figsize=(8,5),tight_layout=True)\n",
    "plt.suptitle('Jaguar record data distribution by municipality in Colombia',fontsize=18)\n",
    "geo_mun.hist(column='record_count',ax=ax,bins=75)\n",
    "\n",
    "# Titles\n",
    "ax.set_title(\"Record count\",fontsize=12)"
   ]
  },
  {
   "cell_type": "code",
   "execution_count": null,
   "id": "3d09c6ca-4f30-434a-883a-2a0eb417545c",
   "metadata": {},
   "outputs": [],
   "source": [
    "# Municipality with highest value of cases\n",
    "geo_mun[geo_mun.record_count == geo_mun.record_count.max()]"
   ]
  },
  {
   "cell_type": "code",
   "execution_count": null,
   "id": "8726090d-b7d0-4f1e-b45b-92968263da9c",
   "metadata": {},
   "outputs": [],
   "source": [
    "# Plotting by record count\n",
    "fig, ax = plt.subplots(1,1, figsize=(12,9))\n",
    "geo_mun.plot(column='record_count',ax=ax)"
   ]
  },
  {
   "cell_type": "markdown",
   "id": "d04cd0ab-ba19-4285-bbaa-0e104af1e930",
   "metadata": {},
   "source": [
    "### Record rate"
   ]
  },
  {
   "cell_type": "markdown",
   "id": "ed3da6c6-de91-430a-8b0c-a341369e3c9f",
   "metadata": {},
   "source": [
    "The jaguar record rate (records/area) is a result of the relation of the number of records and the area of each municipality (squared meteres).\n",
    "\n",
    "__Record date =__ (number of cases) / (squared meters) "
   ]
  },
  {
   "cell_type": "code",
   "execution_count": null,
   "id": "1395bc80-7828-4da1-adc1-8496aed5b1c2",
   "metadata": {},
   "outputs": [],
   "source": [
    "# Creates the new feature\n",
    "geo_mun['record_rate'] = 0"
   ]
  },
  {
   "cell_type": "code",
   "execution_count": null,
   "id": "3c96097a-ef9d-4903-90d2-e86c8ea8ab07",
   "metadata": {},
   "outputs": [],
   "source": [
    "geo_mun['record_rate'] = (geo_mun.record_count)/(geo_mun.MPIO_NAREA)"
   ]
  },
  {
   "cell_type": "code",
   "execution_count": null,
   "id": "1a50d149-c0b0-49e1-8090-698f10992c9d",
   "metadata": {},
   "outputs": [],
   "source": [
    "geo_mun['record_rate'].describe()"
   ]
  },
  {
   "cell_type": "code",
   "execution_count": null,
   "id": "259077af-4939-41b9-aca6-a03d7475ce57",
   "metadata": {},
   "outputs": [],
   "source": [
    "# Municipality with highest rate\n",
    "geo_mun[geo_mun.record_rate == geo_mun.record_rate.max()]"
   ]
  },
  {
   "cell_type": "code",
   "execution_count": null,
   "id": "7ece46c1-7cf9-4f07-b8a4-5906affc2315",
   "metadata": {},
   "outputs": [],
   "source": [
    "# Plotting by record count\n",
    "fig, ax = plt.subplots(1,1, figsize=(12,9))\n",
    "geo_mun.plot(column='record_rate',ax=ax)"
   ]
  },
  {
   "cell_type": "markdown",
   "id": "6c136c96-2869-43d5-9cd4-40e0eec08f32",
   "metadata": {},
   "source": [
    "## National parks"
   ]
  },
  {
   "cell_type": "markdown",
   "id": "8ea12f39-9aad-4e42-9370-8498f50de407",
   "metadata": {},
   "source": [
    "### Area"
   ]
  },
  {
   "cell_type": "code",
   "execution_count": null,
   "id": "b9c16e9d-26b4-4179-9076-033798944a43",
   "metadata": {},
   "outputs": [],
   "source": []
  },
  {
   "cell_type": "code",
   "execution_count": null,
   "id": "0f68810c-6298-46d0-a3a9-2866502fc863",
   "metadata": {},
   "outputs": [],
   "source": [
    "# Intersection between mun and park\n",
    "# intersection_parks = gpd.overlay(geo_mun, geo_park, how='intersection')"
   ]
  },
  {
   "cell_type": "markdown",
   "id": "b089924b-c375-4abc-a5d0-442fa1aeaf19",
   "metadata": {},
   "source": [
    "**Review resulting geometry**"
   ]
  },
  {
   "cell_type": "code",
   "execution_count": null,
   "id": "ea2d1a81-1414-4dd2-9f74-167d7ce07702",
   "metadata": {},
   "outputs": [],
   "source": [
    "# # Plotting\n",
    "# fig, ax = plt.subplots(1,1, figsize=(12,9))\n",
    "# intersection_parks.plot(ax=ax)"
   ]
  },
  {
   "cell_type": "code",
   "execution_count": null,
   "id": "3c767b2b-f9ca-4b16-abf0-c646f65ebbbc",
   "metadata": {},
   "outputs": [],
   "source": [
    "# intersection_parks.head(1)"
   ]
  },
  {
   "cell_type": "code",
   "execution_count": null,
   "id": "9f433fc8-cb5e-4e32-b9ed-34a24a6af248",
   "metadata": {},
   "outputs": [],
   "source": [
    "# # Plotting\n",
    "# fig, ax = plt.subplots(1,1, figsize=(12,9))\n",
    "# intersection_parks.head(1).plot(ax=ax)"
   ]
  },
  {
   "cell_type": "code",
   "execution_count": null,
   "id": "f3c06437-d49f-4389-b73c-980033223ca6",
   "metadata": {},
   "outputs": [],
   "source": [
    "# geo_mun[geo_mun.MPIO_CDPMP == '05004']"
   ]
  },
  {
   "cell_type": "code",
   "execution_count": null,
   "id": "72bfda38-1994-4897-b36f-59841f00f1a5",
   "metadata": {},
   "outputs": [],
   "source": [
    "# fig, ax = plt.subplots(1,1, figsize=(12,9))\n",
    "# geo_mun[geo_mun.MPIO_CDPMP == '05004'].plot(ax=ax)"
   ]
  },
  {
   "cell_type": "code",
   "execution_count": null,
   "id": "9ae88576-734f-49ea-bf38-443715118d5a",
   "metadata": {},
   "outputs": [],
   "source": [
    "# Function for calculatins intercepting area percentage\n",
    "def calculate_intersection_percentage(initial_df, intersecting_df, new_column_name):\n",
    "    # Create a new column in the initial DataFrame\n",
    "    initial_df[new_column_name] = None\n",
    "\n",
    "    # Iterate over each polygon in the initial DataFrame\n",
    "    for idx, polygon in initial_df.iterrows():\n",
    "        intersection = initial_df.geometry[idx].intersection(intersecting_df.unary_union)\n",
    "        intersection_area = intersection.area\n",
    "        percentage = (intersection_area / initial_df.geometry[idx].area) * 100\n",
    "        initial_df.at[idx, new_column_name] = float(percentage)\n",
    "\n",
    "    return initial_df"
   ]
  },
  {
   "cell_type": "code",
   "execution_count": null,
   "id": "451b9b2b-1f14-49ff-9442-3170c1e84bbc",
   "metadata": {},
   "outputs": [],
   "source": [
    "geo_mun = calculate_intersection_percentage(geo_mun, geo_park, 'percentage_area_park')"
   ]
  },
  {
   "cell_type": "markdown",
   "id": "1ce3cd93-928a-4af6-9e09-989c72facdb9",
   "metadata": {},
   "source": [
    "### Distance"
   ]
  },
  {
   "cell_type": "code",
   "execution_count": null,
   "id": "81034e82-956b-442f-b08a-ebdf71be1ba7",
   "metadata": {},
   "outputs": [],
   "source": [
    "geo_mun.info()"
   ]
  }
 ],
 "metadata": {
  "kernelspec": {
   "display_name": "Python 3 (ipykernel)",
   "language": "python",
   "name": "python3"
  },
  "language_info": {
   "codemirror_mode": {
    "name": "ipython",
    "version": 3
   },
   "file_extension": ".py",
   "mimetype": "text/x-python",
   "name": "python",
   "nbconvert_exporter": "python",
   "pygments_lexer": "ipython3",
   "version": "3.10.5"
  },
  "toc-autonumbering": false
 },
 "nbformat": 4,
 "nbformat_minor": 5
}
