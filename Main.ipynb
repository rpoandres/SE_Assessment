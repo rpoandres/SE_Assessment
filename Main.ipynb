{
 "cells": [
  {
   "cell_type": "markdown",
   "id": "df938bed-5bb4-4987-9cb9-7dfd8b71eccb",
   "metadata": {},
   "source": [
    "<div style=\"float:left\">\n",
    "    <h1 style=\"width:600px\">Technical assessment</h1>\n",
    "    <h3 style=\"width:600px\">Solution Engineer position</h3>\n",
    "    <h3 style=\"width:600px\">Author: Andres Restrepo</h3>\n",
    "\n",
    "</div>\n",
    "<div style=\"float: right; display: flex; align-items: center;\">\n",
    "    <img width=\"260\" src=\"Logo/logo_CARTO_positive_180.png\" />\n",
    "</div>"
   ]
  },
  {
   "cell_type": "markdown",
   "id": "66ec8d0b-319a-49c4-afe2-e536b0c6d317",
   "metadata": {},
   "source": [
    "## Libraries"
   ]
  },
  {
   "cell_type": "code",
   "execution_count": 1,
   "id": "0a0c165b-70cc-4019-baf0-b86e48148fc0",
   "metadata": {},
   "outputs": [],
   "source": [
    "#pip install rarfile"
   ]
  },
  {
   "cell_type": "code",
   "execution_count": 2,
   "id": "4f352ae5-f10b-4224-9b7a-35a57b25ca77",
   "metadata": {},
   "outputs": [],
   "source": [
    "import geopandas as gpd\n",
    "import numpy as np\n",
    "import pandas as pd\n",
    "import shapely\n",
    "import matplotlib.pyplot as plt\n",
    "\n",
    "import zipfile\n",
    "import rarfile\n",
    "#import seaborn as sns"
   ]
  },
  {
   "cell_type": "code",
   "execution_count": 3,
   "id": "78fa8103-4208-486c-9abe-4548e2ba4653",
   "metadata": {},
   "outputs": [],
   "source": [
    "# # Setting theme\n",
    "# sns.set_theme()"
   ]
  },
  {
   "cell_type": "markdown",
   "id": "3af02b6b-d016-429e-b2d0-59977da0454e",
   "metadata": {},
   "source": [
    "# Data"
   ]
  },
  {
   "cell_type": "markdown",
   "id": "641fe86f-dfa9-414c-9f60-98480796961a",
   "metadata": {
    "tags": []
   },
   "source": [
    "## Download"
   ]
  },
  {
   "cell_type": "markdown",
   "id": "6aa5fb47-5d22-4834-9089-409972ae6d10",
   "metadata": {
    "tags": []
   },
   "source": [
    "### Jaguar records"
   ]
  },
  {
   "cell_type": "markdown",
   "id": "270c703a-9774-40d5-83ad-e480cb01cb93",
   "metadata": {},
   "source": [
    "The jaguar records data is downloaded from the CARTO stack platform."
   ]
  },
  {
   "cell_type": "code",
   "execution_count": 4,
   "id": "e65831d6-014b-45e9-b23d-98205af1214a",
   "metadata": {},
   "outputs": [
    {
     "name": "stdout",
     "output_type": "stream",
     "text": [
      "CPU times: user 83.2 ms, sys: 25.7 ms, total: 109 ms\n",
      "Wall time: 123 ms\n"
     ]
    }
   ],
   "source": [
    "%%time\n",
    "with zipfile.ZipFile('Data/Jag/carto-data.zip', 'r') as zip_file:\n",
    "    with zip_file.open('puma_concolor.csv') as file:\n",
    "        # read data as datafame\n",
    "        raw_jag = pd.read_csv(file,low_memory=False)"
   ]
  },
  {
   "cell_type": "code",
   "execution_count": 5,
   "id": "231c3101-84fb-4cb7-901a-c53d328587ea",
   "metadata": {},
   "outputs": [
    {
     "data": {
      "text/html": [
       "<div>\n",
       "<style scoped>\n",
       "    .dataframe tbody tr th:only-of-type {\n",
       "        vertical-align: middle;\n",
       "    }\n",
       "\n",
       "    .dataframe tbody tr th {\n",
       "        vertical-align: top;\n",
       "    }\n",
       "\n",
       "    .dataframe thead th {\n",
       "        text-align: right;\n",
       "    }\n",
       "</style>\n",
       "<table border=\"1\" class=\"dataframe\">\n",
       "  <thead>\n",
       "    <tr style=\"text-align: right;\">\n",
       "      <th></th>\n",
       "      <th>issue</th>\n",
       "      <th>mediaType</th>\n",
       "      <th>license</th>\n",
       "      <th>dateIdentified</th>\n",
       "      <th>family</th>\n",
       "      <th>verbatimScientificNameAuthorship</th>\n",
       "      <th>institutionCode</th>\n",
       "      <th>genus</th>\n",
       "      <th>basisOfRecord</th>\n",
       "      <th>taxonKey</th>\n",
       "      <th>...</th>\n",
       "      <th>year</th>\n",
       "      <th>speciesKey</th>\n",
       "      <th>decimalLongitude</th>\n",
       "      <th>gbifID</th>\n",
       "      <th>order</th>\n",
       "      <th>datasetKey</th>\n",
       "      <th>geometry</th>\n",
       "      <th>stateProvince</th>\n",
       "      <th>longitude</th>\n",
       "      <th>latitude</th>\n",
       "    </tr>\n",
       "  </thead>\n",
       "  <tbody>\n",
       "    <tr>\n",
       "      <th>0</th>\n",
       "      <td>COORDINATE_ROUNDED;INSTITUTION_MATCH_NONE;COLL...</td>\n",
       "      <td>NaN</td>\n",
       "      <td>CC_BY_NC_4_0</td>\n",
       "      <td>1970-01-01T00:00:00.000Z</td>\n",
       "      <td>Felidae</td>\n",
       "      <td>NaN</td>\n",
       "      <td>IIAP</td>\n",
       "      <td>Puma</td>\n",
       "      <td>HUMAN_OBSERVATION</td>\n",
       "      <td>2435099</td>\n",
       "      <td>...</td>\n",
       "      <td>2012</td>\n",
       "      <td>2435099</td>\n",
       "      <td>-76.686556</td>\n",
       "      <td>1503125323</td>\n",
       "      <td>Carnivora</td>\n",
       "      <td>5995e6ec-ec8e-4021-ab7b-37806367c48a</td>\n",
       "      <td>NaN</td>\n",
       "      <td>Chocó</td>\n",
       "      <td>-76.686556</td>\n",
       "      <td>5.133361</td>\n",
       "    </tr>\n",
       "    <tr>\n",
       "      <th>1</th>\n",
       "      <td>NaN</td>\n",
       "      <td>NaN</td>\n",
       "      <td>CC_BY_4_0</td>\n",
       "      <td>1970-01-01T00:00:00.000Z</td>\n",
       "      <td>Felidae</td>\n",
       "      <td>(Linnaeus, 1771)</td>\n",
       "      <td>Terrasos</td>\n",
       "      <td>Puma</td>\n",
       "      <td>MACHINE_OBSERVATION</td>\n",
       "      <td>2435099</td>\n",
       "      <td>...</td>\n",
       "      <td>2019</td>\n",
       "      <td>2435099</td>\n",
       "      <td>-73.409921</td>\n",
       "      <td>2556487738</td>\n",
       "      <td>Carnivora</td>\n",
       "      <td>cf557dff-b9cb-4a23-bf74-a927fef0d7b6</td>\n",
       "      <td>NaN</td>\n",
       "      <td>Meta</td>\n",
       "      <td>-73.409921</td>\n",
       "      <td>3.551567</td>\n",
       "    </tr>\n",
       "    <tr>\n",
       "      <th>2</th>\n",
       "      <td>NaN</td>\n",
       "      <td>NaN</td>\n",
       "      <td>CC_BY_4_0</td>\n",
       "      <td>1970-01-01T00:00:00.000Z</td>\n",
       "      <td>Felidae</td>\n",
       "      <td>(Linnaeus, 1771)</td>\n",
       "      <td>Terrasos</td>\n",
       "      <td>Puma</td>\n",
       "      <td>MACHINE_OBSERVATION</td>\n",
       "      <td>2435099</td>\n",
       "      <td>...</td>\n",
       "      <td>2020</td>\n",
       "      <td>2435099</td>\n",
       "      <td>-73.409498</td>\n",
       "      <td>3332427318</td>\n",
       "      <td>Carnivora</td>\n",
       "      <td>cf557dff-b9cb-4a23-bf74-a927fef0d7b6</td>\n",
       "      <td>NaN</td>\n",
       "      <td>Meta</td>\n",
       "      <td>-73.409498</td>\n",
       "      <td>3.526048</td>\n",
       "    </tr>\n",
       "    <tr>\n",
       "      <th>3</th>\n",
       "      <td>INSTITUTION_MATCH_NONE;COLLECTION_MATCH_NONE</td>\n",
       "      <td>NaN</td>\n",
       "      <td>CC_BY_NC_4_0</td>\n",
       "      <td>1970-01-01T00:00:00.000Z</td>\n",
       "      <td>Felidae</td>\n",
       "      <td>(Linnaeus, 1771)</td>\n",
       "      <td>PROMIGAS S.A. E.S.P. (Promigas)</td>\n",
       "      <td>Puma</td>\n",
       "      <td>HUMAN_OBSERVATION</td>\n",
       "      <td>2435099</td>\n",
       "      <td>...</td>\n",
       "      <td>2017</td>\n",
       "      <td>2435099</td>\n",
       "      <td>-75.189814</td>\n",
       "      <td>3019065673</td>\n",
       "      <td>Carnivora</td>\n",
       "      <td>8c145caa-8dca-40e6-b082-741e0d6b8f83</td>\n",
       "      <td>NaN</td>\n",
       "      <td>Atlántico</td>\n",
       "      <td>-75.189814</td>\n",
       "      <td>10.686383</td>\n",
       "    </tr>\n",
       "    <tr>\n",
       "      <th>4</th>\n",
       "      <td>GEODETIC_DATUM_ASSUMED_WGS84;COUNTRY_DERIVED_F...</td>\n",
       "      <td>NaN</td>\n",
       "      <td>CC_BY_4_0</td>\n",
       "      <td>1970-01-01T00:00:00.000Z</td>\n",
       "      <td>Felidae</td>\n",
       "      <td>NaN</td>\n",
       "      <td>NaN</td>\n",
       "      <td>Puma</td>\n",
       "      <td>PRESERVED_SPECIMEN</td>\n",
       "      <td>2435099</td>\n",
       "      <td>...</td>\n",
       "      <td>1996</td>\n",
       "      <td>2435099</td>\n",
       "      <td>-125.830000</td>\n",
       "      <td>2306925380</td>\n",
       "      <td>Carnivora</td>\n",
       "      <td>ad43e954-dd79-4986-ae34-9ccdbd8bf568</td>\n",
       "      <td>NaN</td>\n",
       "      <td>NaN</td>\n",
       "      <td>-125.830000</td>\n",
       "      <td>49.670000</td>\n",
       "    </tr>\n",
       "  </tbody>\n",
       "</table>\n",
       "<p>5 rows × 53 columns</p>\n",
       "</div>"
      ],
      "text/plain": [
       "                                               issue mediaType       license  \\\n",
       "0  COORDINATE_ROUNDED;INSTITUTION_MATCH_NONE;COLL...       NaN  CC_BY_NC_4_0   \n",
       "1                                                NaN       NaN     CC_BY_4_0   \n",
       "2                                                NaN       NaN     CC_BY_4_0   \n",
       "3       INSTITUTION_MATCH_NONE;COLLECTION_MATCH_NONE       NaN  CC_BY_NC_4_0   \n",
       "4  GEODETIC_DATUM_ASSUMED_WGS84;COUNTRY_DERIVED_F...       NaN     CC_BY_4_0   \n",
       "\n",
       "             dateIdentified   family verbatimScientificNameAuthorship  \\\n",
       "0  1970-01-01T00:00:00.000Z  Felidae                              NaN   \n",
       "1  1970-01-01T00:00:00.000Z  Felidae                 (Linnaeus, 1771)   \n",
       "2  1970-01-01T00:00:00.000Z  Felidae                 (Linnaeus, 1771)   \n",
       "3  1970-01-01T00:00:00.000Z  Felidae                 (Linnaeus, 1771)   \n",
       "4  1970-01-01T00:00:00.000Z  Felidae                              NaN   \n",
       "\n",
       "                   institutionCode genus        basisOfRecord  taxonKey  ...  \\\n",
       "0                             IIAP  Puma    HUMAN_OBSERVATION   2435099  ...   \n",
       "1                         Terrasos  Puma  MACHINE_OBSERVATION   2435099  ...   \n",
       "2                         Terrasos  Puma  MACHINE_OBSERVATION   2435099  ...   \n",
       "3  PROMIGAS S.A. E.S.P. (Promigas)  Puma    HUMAN_OBSERVATION   2435099  ...   \n",
       "4                              NaN  Puma   PRESERVED_SPECIMEN   2435099  ...   \n",
       "\n",
       "   year  speciesKey  decimalLongitude      gbifID      order  \\\n",
       "0  2012     2435099        -76.686556  1503125323  Carnivora   \n",
       "1  2019     2435099        -73.409921  2556487738  Carnivora   \n",
       "2  2020     2435099        -73.409498  3332427318  Carnivora   \n",
       "3  2017     2435099        -75.189814  3019065673  Carnivora   \n",
       "4  1996     2435099       -125.830000  2306925380  Carnivora   \n",
       "\n",
       "                             datasetKey geometry  stateProvince   longitude  \\\n",
       "0  5995e6ec-ec8e-4021-ab7b-37806367c48a      NaN          Chocó  -76.686556   \n",
       "1  cf557dff-b9cb-4a23-bf74-a927fef0d7b6      NaN           Meta  -73.409921   \n",
       "2  cf557dff-b9cb-4a23-bf74-a927fef0d7b6      NaN           Meta  -73.409498   \n",
       "3  8c145caa-8dca-40e6-b082-741e0d6b8f83      NaN      Atlántico  -75.189814   \n",
       "4  ad43e954-dd79-4986-ae34-9ccdbd8bf568      NaN            NaN -125.830000   \n",
       "\n",
       "    latitude  \n",
       "0   5.133361  \n",
       "1   3.551567  \n",
       "2   3.526048  \n",
       "3  10.686383  \n",
       "4  49.670000  \n",
       "\n",
       "[5 rows x 53 columns]"
      ]
     },
     "execution_count": 5,
     "metadata": {},
     "output_type": "execute_result"
    }
   ],
   "source": [
    "# Raw data reading\n",
    "raw_jag.head()"
   ]
  },
  {
   "cell_type": "code",
   "execution_count": 6,
   "id": "1d6526f1-c249-4b09-935b-7ee2d78ca0fb",
   "metadata": {},
   "outputs": [
    {
     "name": "stdout",
     "output_type": "stream",
     "text": [
      "<class 'pandas.core.frame.DataFrame'>\n",
      "RangeIndex: 6790 entries, 0 to 6789\n",
      "Data columns (total 53 columns):\n",
      " #   Column                            Non-Null Count  Dtype  \n",
      "---  ------                            --------------  -----  \n",
      " 0   issue                             6232 non-null   object \n",
      " 1   mediaType                         2961 non-null   object \n",
      " 2   license                           6790 non-null   object \n",
      " 3   dateIdentified                    6790 non-null   object \n",
      " 4   family                            6790 non-null   object \n",
      " 5   verbatimScientificNameAuthorship  2225 non-null   object \n",
      " 6   institutionCode                   6754 non-null   object \n",
      " 7   genus                             6790 non-null   object \n",
      " 8   basisOfRecord                     6790 non-null   object \n",
      " 9   taxonKey                          6790 non-null   int64  \n",
      " 10  month                             6790 non-null   int64  \n",
      " 11  individualCount                   1526 non-null   float64\n",
      " 12  day                               6790 non-null   int64  \n",
      " 13  recordedBy                        6627 non-null   object \n",
      " 14  establishmentMeans                292 non-null    object \n",
      " 15  eventDate                         6790 non-null   object \n",
      " 16  catalogNumber                     6466 non-null   object \n",
      " 17  depthAccuracy                     1690 non-null   float64\n",
      " 18  depth                             1690 non-null   float64\n",
      " 19  elevationAccuracy                 1966 non-null   float64\n",
      " 20  countryCode                       6790 non-null   object \n",
      " 21  recordNumber                      376 non-null    object \n",
      " 22  coordinatePrecision               77 non-null     float64\n",
      " 23  coordinateUncertaintyInMeters     4551 non-null   float64\n",
      " 24  kingdom                           6790 non-null   object \n",
      " 25  publishingOrgKey                  6790 non-null   object \n",
      " 26  locality                          3698 non-null   object \n",
      " 27  class                             6790 non-null   object \n",
      " 28  phylum                            6790 non-null   object \n",
      " 29  decimalLatitude                   6790 non-null   float64\n",
      " 30  taxonRank                         6790 non-null   object \n",
      " 31  rightsHolder                      3809 non-null   object \n",
      " 32  infraspecificEpithet              992 non-null    object \n",
      " 33  species                           6790 non-null   object \n",
      " 34  identifiedBy                      4822 non-null   object \n",
      " 35  elevation                         2176 non-null   float64\n",
      " 36  lastInterpreted                   6790 non-null   object \n",
      " 37  occurrenceID                      5443 non-null   object \n",
      " 38  typeStatus                        9 non-null      object \n",
      " 39  collectionCode                    6279 non-null   object \n",
      " 40  verbatimScientificName            6790 non-null   object \n",
      " 41  occurrenceStatus                  6790 non-null   object \n",
      " 42  scientificName                    6790 non-null   object \n",
      " 43  year                              6790 non-null   int64  \n",
      " 44  speciesKey                        6790 non-null   int64  \n",
      " 45  decimalLongitude                  6790 non-null   float64\n",
      " 46  gbifID                            6790 non-null   int64  \n",
      " 47  order                             6790 non-null   object \n",
      " 48  datasetKey                        6790 non-null   object \n",
      " 49  geometry                          0 non-null      float64\n",
      " 50  stateProvince                     6715 non-null   object \n",
      " 51  longitude                         6790 non-null   float64\n",
      " 52  latitude                          6790 non-null   float64\n",
      "dtypes: float64(12), int64(6), object(35)\n",
      "memory usage: 2.7+ MB\n"
     ]
    }
   ],
   "source": [
    "# Data review\n",
    "raw_jag.info()"
   ]
  },
  {
   "cell_type": "markdown",
   "id": "a1e6f7df-acc1-4c6a-b348-23ba2568f0b1",
   "metadata": {
    "tags": []
   },
   "source": [
    "### Municipalties data"
   ]
  },
  {
   "cell_type": "markdown",
   "id": "a3ae86fc-d916-44b4-8af6-b234d5ae4d65",
   "metadata": {},
   "source": [
    "The municiplities boundaries data from Colombia is downloaded from the National Geostatistical Framework [(*Marco Geoestadistico Nacional*)](https://geoportal.dane.gov.co/servicios/descarga-y-metadatos/descarga-mgn-marco-geoestadistico-nacional/#gsc.tab=0) , published by the Colombian National Administrative and Statisticas Department [(*Departamento Administrativo Nacional de Estadistica*)](https://www.dane.gov.co/).\n",
    "\n",
    "Colombian municipalites data: [Shapefile](https://geoportal.dane.gov.co/descargas/mgn_2021/MGN2021_MPIO_POLITICO.rar)"
   ]
  },
  {
   "cell_type": "code",
   "execution_count": 7,
   "id": "dcbb0e33-0383-49bf-a354-a600461d5a5e",
   "metadata": {},
   "outputs": [],
   "source": [
    "geo_mun = gpd.read_file('Data/Mun/MGN_MPIO_POLITICO.shp')"
   ]
  },
  {
   "cell_type": "code",
   "execution_count": 8,
   "id": "f3df69a7-ae43-473b-84cc-a1efbfcc6761",
   "metadata": {},
   "outputs": [
    {
     "data": {
      "text/html": [
       "<div>\n",
       "<style scoped>\n",
       "    .dataframe tbody tr th:only-of-type {\n",
       "        vertical-align: middle;\n",
       "    }\n",
       "\n",
       "    .dataframe tbody tr th {\n",
       "        vertical-align: top;\n",
       "    }\n",
       "\n",
       "    .dataframe thead th {\n",
       "        text-align: right;\n",
       "    }\n",
       "</style>\n",
       "<table border=\"1\" class=\"dataframe\">\n",
       "  <thead>\n",
       "    <tr style=\"text-align: right;\">\n",
       "      <th></th>\n",
       "      <th>DPTO_CCDGO</th>\n",
       "      <th>MPIO_CCDGO</th>\n",
       "      <th>MPIO_CDPMP</th>\n",
       "      <th>DPTO_CNMBR</th>\n",
       "      <th>MPIO_CNMBR</th>\n",
       "      <th>MPIO_CRSLC</th>\n",
       "      <th>MPIO_NAREA</th>\n",
       "      <th>MPIO_CSMBL</th>\n",
       "      <th>MPIO_VGNC</th>\n",
       "      <th>MPIO_TIPO</th>\n",
       "      <th>Shape_Leng</th>\n",
       "      <th>Shape_Area</th>\n",
       "      <th>geometry</th>\n",
       "    </tr>\n",
       "  </thead>\n",
       "  <tbody>\n",
       "    <tr>\n",
       "      <th>0</th>\n",
       "      <td>05</td>\n",
       "      <td>001</td>\n",
       "      <td>05001</td>\n",
       "      <td>ANTIOQUIA</td>\n",
       "      <td>MEDELLÍN</td>\n",
       "      <td>1965</td>\n",
       "      <td>374.812877</td>\n",
       "      <td>4</td>\n",
       "      <td>2021</td>\n",
       "      <td>MUNICIPIO</td>\n",
       "      <td>1.032546</td>\n",
       "      <td>0.030606</td>\n",
       "      <td>POLYGON ((-75.66974 6.37360, -75.66965 6.37360...</td>\n",
       "    </tr>\n",
       "    <tr>\n",
       "      <th>1</th>\n",
       "      <td>05</td>\n",
       "      <td>002</td>\n",
       "      <td>05002</td>\n",
       "      <td>ANTIOQUIA</td>\n",
       "      <td>ABEJORRAL</td>\n",
       "      <td>1814</td>\n",
       "      <td>507.141095</td>\n",
       "      <td>4</td>\n",
       "      <td>2021</td>\n",
       "      <td>MUNICIPIO</td>\n",
       "      <td>1.158504</td>\n",
       "      <td>0.041384</td>\n",
       "      <td>POLYGON ((-75.46938 5.94575, -75.46897 5.94571...</td>\n",
       "    </tr>\n",
       "    <tr>\n",
       "      <th>2</th>\n",
       "      <td>05</td>\n",
       "      <td>004</td>\n",
       "      <td>05004</td>\n",
       "      <td>ANTIOQUIA</td>\n",
       "      <td>ABRIAQUÍ</td>\n",
       "      <td>1912</td>\n",
       "      <td>296.894050</td>\n",
       "      <td>4</td>\n",
       "      <td>2021</td>\n",
       "      <td>MUNICIPIO</td>\n",
       "      <td>0.812183</td>\n",
       "      <td>0.024248</td>\n",
       "      <td>POLYGON ((-76.08351 6.75050, -76.08325 6.75048...</td>\n",
       "    </tr>\n",
       "    <tr>\n",
       "      <th>3</th>\n",
       "      <td>05</td>\n",
       "      <td>021</td>\n",
       "      <td>05021</td>\n",
       "      <td>ANTIOQUIA</td>\n",
       "      <td>ALEJANDRÍA</td>\n",
       "      <td>Decreto departamental 304 de 1907</td>\n",
       "      <td>128.932153</td>\n",
       "      <td>4</td>\n",
       "      <td>2021</td>\n",
       "      <td>MUNICIPIO</td>\n",
       "      <td>0.705200</td>\n",
       "      <td>0.010535</td>\n",
       "      <td>POLYGON ((-75.03320 6.41586, -75.03313 6.41585...</td>\n",
       "    </tr>\n",
       "    <tr>\n",
       "      <th>4</th>\n",
       "      <td>05</td>\n",
       "      <td>030</td>\n",
       "      <td>05030</td>\n",
       "      <td>ANTIOQUIA</td>\n",
       "      <td>AMAGÁ</td>\n",
       "      <td>1912</td>\n",
       "      <td>84.132675</td>\n",
       "      <td>4</td>\n",
       "      <td>2021</td>\n",
       "      <td>MUNICIPIO</td>\n",
       "      <td>0.445241</td>\n",
       "      <td>0.006867</td>\n",
       "      <td>POLYGON ((-75.67587 6.08561, -75.67540 6.08491...</td>\n",
       "    </tr>\n",
       "  </tbody>\n",
       "</table>\n",
       "</div>"
      ],
      "text/plain": [
       "  DPTO_CCDGO MPIO_CCDGO MPIO_CDPMP DPTO_CNMBR  MPIO_CNMBR  \\\n",
       "0         05        001      05001  ANTIOQUIA    MEDELLÍN   \n",
       "1         05        002      05002  ANTIOQUIA   ABEJORRAL   \n",
       "2         05        004      05004  ANTIOQUIA    ABRIAQUÍ   \n",
       "3         05        021      05021  ANTIOQUIA  ALEJANDRÍA   \n",
       "4         05        030      05030  ANTIOQUIA       AMAGÁ   \n",
       "\n",
       "                          MPIO_CRSLC  MPIO_NAREA MPIO_CSMBL  MPIO_VGNC  \\\n",
       "0                               1965  374.812877          4       2021   \n",
       "1                               1814  507.141095          4       2021   \n",
       "2                               1912  296.894050          4       2021   \n",
       "3  Decreto departamental 304 de 1907  128.932153          4       2021   \n",
       "4                               1912   84.132675          4       2021   \n",
       "\n",
       "   MPIO_TIPO  Shape_Leng  Shape_Area  \\\n",
       "0  MUNICIPIO    1.032546    0.030606   \n",
       "1  MUNICIPIO    1.158504    0.041384   \n",
       "2  MUNICIPIO    0.812183    0.024248   \n",
       "3  MUNICIPIO    0.705200    0.010535   \n",
       "4  MUNICIPIO    0.445241    0.006867   \n",
       "\n",
       "                                            geometry  \n",
       "0  POLYGON ((-75.66974 6.37360, -75.66965 6.37360...  \n",
       "1  POLYGON ((-75.46938 5.94575, -75.46897 5.94571...  \n",
       "2  POLYGON ((-76.08351 6.75050, -76.08325 6.75048...  \n",
       "3  POLYGON ((-75.03320 6.41586, -75.03313 6.41585...  \n",
       "4  POLYGON ((-75.67587 6.08561, -75.67540 6.08491...  "
      ]
     },
     "execution_count": 8,
     "metadata": {},
     "output_type": "execute_result"
    }
   ],
   "source": [
    "# Raw data reading\n",
    "geo_mun.head()"
   ]
  },
  {
   "cell_type": "code",
   "execution_count": 9,
   "id": "20086a18-f2a1-4573-9583-03141f1c863d",
   "metadata": {},
   "outputs": [
    {
     "name": "stdout",
     "output_type": "stream",
     "text": [
      "<class 'geopandas.geodataframe.GeoDataFrame'>\n",
      "RangeIndex: 1121 entries, 0 to 1120\n",
      "Data columns (total 13 columns):\n",
      " #   Column      Non-Null Count  Dtype   \n",
      "---  ------      --------------  -----   \n",
      " 0   DPTO_CCDGO  1121 non-null   object  \n",
      " 1   MPIO_CCDGO  1121 non-null   object  \n",
      " 2   MPIO_CDPMP  1121 non-null   object  \n",
      " 3   DPTO_CNMBR  1121 non-null   object  \n",
      " 4   MPIO_CNMBR  1121 non-null   object  \n",
      " 5   MPIO_CRSLC  1121 non-null   object  \n",
      " 6   MPIO_NAREA  1121 non-null   float64 \n",
      " 7   MPIO_CSMBL  1121 non-null   object  \n",
      " 8   MPIO_VGNC   1121 non-null   int64   \n",
      " 9   MPIO_TIPO   1121 non-null   object  \n",
      " 10  Shape_Leng  1121 non-null   float64 \n",
      " 11  Shape_Area  1121 non-null   float64 \n",
      " 12  geometry    1121 non-null   geometry\n",
      "dtypes: float64(3), geometry(1), int64(1), object(8)\n",
      "memory usage: 114.0+ KB\n"
     ]
    }
   ],
   "source": [
    "# Data review\n",
    "geo_mun.info()"
   ]
  },
  {
   "cell_type": "code",
   "execution_count": 10,
   "id": "e3ea1a55-7c46-4e16-b9ea-c3861b46e55c",
   "metadata": {},
   "outputs": [
    {
     "data": {
      "text/plain": [
       "<AxesSubplot:>"
      ]
     },
     "execution_count": 10,
     "metadata": {},
     "output_type": "execute_result"
    },
    {
     "data": {
      "image/png": "[encoded data removed]",
      "text/plain": [
       "<Figure size 432x288 with 1 Axes>"
      ]
     },
     "metadata": {
      "needs_background": "light"
     },
     "output_type": "display_data"
    }
   ],
   "source": [
    "# Geometry\n",
    "geo_mun.plot() "
   ]
  },
  {
   "cell_type": "code",
   "execution_count": 11,
   "id": "8f4aeb7a-bde9-4c72-be1e-0ff83f447a04",
   "metadata": {},
   "outputs": [
    {
     "data": {
      "text/plain": [
       "<Geographic 2D CRS: EPSG:4686>\n",
       "Name: MAGNA-SIRGAS\n",
       "Axis Info [ellipsoidal]:\n",
       "- Lat[north]: Geodetic latitude (degree)\n",
       "- Lon[east]: Geodetic longitude (degree)\n",
       "Area of Use:\n",
       "- name: Colombia - onshore and offshore. Includes San Andres y Providencia, Malpelo Islands, Roncador Bank, Serrana Bank and Serranilla Bank.\n",
       "- bounds: (-84.77, -4.23, -66.87, 15.51)\n",
       "Datum: Marco Geocentrico Nacional de Referencia\n",
       "- Ellipsoid: GRS 1980\n",
       "- Prime Meridian: Greenwich"
      ]
     },
     "execution_count": 11,
     "metadata": {},
     "output_type": "execute_result"
    }
   ],
   "source": [
    "# CRS\n",
    "geo_mun.crs"
   ]
  },
  {
   "cell_type": "markdown",
   "id": "32eeafbe-4d25-468b-ab98-ad6e780f69af",
   "metadata": {},
   "source": [
    "### Natural parks data"
   ]
  },
  {
   "cell_type": "markdown",
   "id": "e5309b8a-587d-44ed-9258-d1de5811c928",
   "metadata": {},
   "source": [
    "The national parks data represents the boundaries of restricted and conservations areas under the management of central government envirnmental authorities. Municipalities with area within these limits would have restricted area to host the jaguar ecosystem and greater support from the central government in that matter.\n",
    "\n",
    "The national park boundaries data is available in [ESRI Open Data Hub](https://datosabiertos.esri.co/datasets/d4d80793ff604f7aa153f3cecbe0757e/explore)."
   ]
  },
  {
   "cell_type": "code",
   "execution_count": 12,
   "id": "6e35ce90-8c52-42b7-a707-f2f753d3853a",
   "metadata": {
    "tags": []
   },
   "outputs": [],
   "source": [
    "geo_park = gpd.read_file('Data/Parks/Parques_Nacionales_Naturales_de_Colombia.shp')"
   ]
  },
  {
   "cell_type": "code",
   "execution_count": 13,
   "id": "8d763136-7e6b-410d-9538-24359bce4f7b",
   "metadata": {},
   "outputs": [
    {
     "data": {
      "text/html": [
       "<div>\n",
       "<style scoped>\n",
       "    .dataframe tbody tr th:only-of-type {\n",
       "        vertical-align: middle;\n",
       "    }\n",
       "\n",
       "    .dataframe tbody tr th {\n",
       "        vertical-align: top;\n",
       "    }\n",
       "\n",
       "    .dataframe thead th {\n",
       "        text-align: right;\n",
       "    }\n",
       "</style>\n",
       "<table border=\"1\" class=\"dataframe\">\n",
       "  <thead>\n",
       "    <tr style=\"text-align: right;\">\n",
       "      <th></th>\n",
       "      <th>OBJECTID</th>\n",
       "      <th>Id</th>\n",
       "      <th>Nombre</th>\n",
       "      <th>No_Res_Vi</th>\n",
       "      <th>Area_Res</th>\n",
       "      <th>Región</th>\n",
       "      <th>Categoría</th>\n",
       "      <th>Cos_Adulto</th>\n",
       "      <th>Cos_Ninos</th>\n",
       "      <th>Alojamie</th>\n",
       "      <th>Camping</th>\n",
       "      <th>SHAPE_Leng</th>\n",
       "      <th>ShapeSTAre</th>\n",
       "      <th>ShapeSTLen</th>\n",
       "      <th>geometry</th>\n",
       "    </tr>\n",
       "  </thead>\n",
       "  <tbody>\n",
       "    <tr>\n",
       "      <th>0</th>\n",
       "      <td>1</td>\n",
       "      <td>1</td>\n",
       "      <td>EL COCUY</td>\n",
       "      <td>RESOLUCION 0156 DE 06/06/1977</td>\n",
       "      <td>306000.0</td>\n",
       "      <td>Andes Nororientales</td>\n",
       "      <td>Parque Nacional</td>\n",
       "      <td>26000</td>\n",
       "      <td>12500</td>\n",
       "      <td>No</td>\n",
       "      <td>No</td>\n",
       "      <td>4.922499</td>\n",
       "      <td>3.133832e+09</td>\n",
       "      <td>549829.792036</td>\n",
       "      <td>POLYGON ((-72.27591 6.76498, -72.27742 6.76479...</td>\n",
       "    </tr>\n",
       "    <tr>\n",
       "      <th>1</th>\n",
       "      <td>2</td>\n",
       "      <td>2</td>\n",
       "      <td>PISBA</td>\n",
       "      <td>RESOLUCION 0155 DE 06/06/1977</td>\n",
       "      <td>45000.0</td>\n",
       "      <td>Andes Nororientales</td>\n",
       "      <td>Parque Nacional</td>\n",
       "      <td>None</td>\n",
       "      <td>None</td>\n",
       "      <td>No</td>\n",
       "      <td>No</td>\n",
       "      <td>1.641009</td>\n",
       "      <td>3.738832e+08</td>\n",
       "      <td>183179.822217</td>\n",
       "      <td>POLYGON ((-72.52926 6.01147, -72.52905 6.01146...</td>\n",
       "    </tr>\n",
       "    <tr>\n",
       "      <th>2</th>\n",
       "      <td>3</td>\n",
       "      <td>3</td>\n",
       "      <td>PARAMILLO</td>\n",
       "      <td>RESOLUCION 0163 DE 06/06/1977</td>\n",
       "      <td>460000.0</td>\n",
       "      <td>Caribe</td>\n",
       "      <td>Parque Nacional</td>\n",
       "      <td>None</td>\n",
       "      <td>None</td>\n",
       "      <td>No</td>\n",
       "      <td>No</td>\n",
       "      <td>6.087042</td>\n",
       "      <td>5.451650e+09</td>\n",
       "      <td>680975.575886</td>\n",
       "      <td>POLYGON ((-75.72161 7.51973, -75.72368 7.51582...</td>\n",
       "    </tr>\n",
       "    <tr>\n",
       "      <th>3</th>\n",
       "      <td>4</td>\n",
       "      <td>4</td>\n",
       "      <td>MALPELO</td>\n",
       "      <td>RESOLUCION 1292 DE 31/10/1995</td>\n",
       "      <td>974474.0</td>\n",
       "      <td>Pacífico</td>\n",
       "      <td>Santuario de Fauna y Flora</td>\n",
       "      <td>None</td>\n",
       "      <td>None</td>\n",
       "      <td>No</td>\n",
       "      <td>No</td>\n",
       "      <td>3.533329</td>\n",
       "      <td>9.689266e+09</td>\n",
       "      <td>393815.696700</td>\n",
       "      <td>POLYGON ((-81.13333 4.43333, -81.13333 3.53333...</td>\n",
       "    </tr>\n",
       "    <tr>\n",
       "      <th>4</th>\n",
       "      <td>5</td>\n",
       "      <td>5</td>\n",
       "      <td>SANQUIANGA</td>\n",
       "      <td>RESOLUCION 161 DE 6/06/1977</td>\n",
       "      <td>80000.0</td>\n",
       "      <td>Pacífico</td>\n",
       "      <td>Parque Nacional</td>\n",
       "      <td>None</td>\n",
       "      <td>None</td>\n",
       "      <td>No</td>\n",
       "      <td>No</td>\n",
       "      <td>1.440176</td>\n",
       "      <td>8.726801e+08</td>\n",
       "      <td>160378.891472</td>\n",
       "      <td>POLYGON ((-78.22278 2.53124, -78.22276 2.53121...</td>\n",
       "    </tr>\n",
       "  </tbody>\n",
       "</table>\n",
       "</div>"
      ],
      "text/plain": [
       "   OBJECTID  Id      Nombre                      No_Res_Vi  Area_Res  \\\n",
       "0         1   1    EL COCUY  RESOLUCION 0156 DE 06/06/1977  306000.0   \n",
       "1         2   2       PISBA  RESOLUCION 0155 DE 06/06/1977   45000.0   \n",
       "2         3   3   PARAMILLO  RESOLUCION 0163 DE 06/06/1977  460000.0   \n",
       "3         4   4     MALPELO  RESOLUCION 1292 DE 31/10/1995  974474.0   \n",
       "4         5   5  SANQUIANGA    RESOLUCION 161 DE 6/06/1977   80000.0   \n",
       "\n",
       "                Región                   Categoría Cos_Adulto Cos_Ninos  \\\n",
       "0  Andes Nororientales             Parque Nacional      26000     12500   \n",
       "1  Andes Nororientales             Parque Nacional       None      None   \n",
       "2               Caribe             Parque Nacional       None      None   \n",
       "3             Pacífico  Santuario de Fauna y Flora       None      None   \n",
       "4             Pacífico             Parque Nacional       None      None   \n",
       "\n",
       "  Alojamie Camping  SHAPE_Leng    ShapeSTAre     ShapeSTLen  \\\n",
       "0       No      No    4.922499  3.133832e+09  549829.792036   \n",
       "1       No      No    1.641009  3.738832e+08  183179.822217   \n",
       "2       No      No    6.087042  5.451650e+09  680975.575886   \n",
       "3       No      No    3.533329  9.689266e+09  393815.696700   \n",
       "4       No      No    1.440176  8.726801e+08  160378.891472   \n",
       "\n",
       "                                            geometry  \n",
       "0  POLYGON ((-72.27591 6.76498, -72.27742 6.76479...  \n",
       "1  POLYGON ((-72.52926 6.01147, -72.52905 6.01146...  \n",
       "2  POLYGON ((-75.72161 7.51973, -75.72368 7.51582...  \n",
       "3  POLYGON ((-81.13333 4.43333, -81.13333 3.53333...  \n",
       "4  POLYGON ((-78.22278 2.53124, -78.22276 2.53121...  "
      ]
     },
     "execution_count": 13,
     "metadata": {},
     "output_type": "execute_result"
    }
   ],
   "source": [
    "# Raw data reading\n",
    "geo_park.head()"
   ]
  },
  {
   "cell_type": "code",
   "execution_count": 14,
   "id": "086a5687-9f6a-46a7-b51e-6bde443e81ec",
   "metadata": {},
   "outputs": [
    {
     "name": "stdout",
     "output_type": "stream",
     "text": [
      "<class 'geopandas.geodataframe.GeoDataFrame'>\n",
      "RangeIndex: 58 entries, 0 to 57\n",
      "Data columns (total 15 columns):\n",
      " #   Column      Non-Null Count  Dtype   \n",
      "---  ------      --------------  -----   \n",
      " 0   OBJECTID    58 non-null     int64   \n",
      " 1   Id          58 non-null     int64   \n",
      " 2   Nombre      58 non-null     object  \n",
      " 3   No_Res_Vi   58 non-null     object  \n",
      " 4   Area_Res    58 non-null     float64 \n",
      " 5   Región      58 non-null     object  \n",
      " 6   Categoría   58 non-null     object  \n",
      " 7   Cos_Adulto  19 non-null     object  \n",
      " 8   Cos_Ninos   19 non-null     object  \n",
      " 9   Alojamie    58 non-null     object  \n",
      " 10  Camping     58 non-null     object  \n",
      " 11  SHAPE_Leng  58 non-null     float64 \n",
      " 12  ShapeSTAre  58 non-null     float64 \n",
      " 13  ShapeSTLen  58 non-null     float64 \n",
      " 14  geometry    58 non-null     geometry\n",
      "dtypes: float64(4), geometry(1), int64(2), object(8)\n",
      "memory usage: 6.9+ KB\n"
     ]
    }
   ],
   "source": [
    "# Data review\n",
    "geo_park.info()"
   ]
  },
  {
   "cell_type": "code",
   "execution_count": 15,
   "id": "21a6a7bf-6a51-4daf-8731-55a11aa7955a",
   "metadata": {},
   "outputs": [
    {
     "data": {
      "text/plain": [
       "<AxesSubplot:>"
      ]
     },
     "execution_count": 15,
     "metadata": {},
     "output_type": "execute_result"
    },
    {
     "data": {
      "image/png": "[encoded data removed]",
      "text/plain": [
       "<Figure size 432x288 with 1 Axes>"
      ]
     },
     "metadata": {
      "needs_background": "light"
     },
     "output_type": "display_data"
    }
   ],
   "source": [
    "# Geometry\n",
    "geo_park.plot() "
   ]
  },
  {
   "cell_type": "code",
   "execution_count": 16,
   "id": "0f95c4af-c28d-4bcc-99ea-31d4959c1435",
   "metadata": {},
   "outputs": [
    {
     "data": {
      "text/plain": [
       "<Geographic 2D CRS: EPSG:4326>\n",
       "Name: WGS 84\n",
       "Axis Info [ellipsoidal]:\n",
       "- Lat[north]: Geodetic latitude (degree)\n",
       "- Lon[east]: Geodetic longitude (degree)\n",
       "Area of Use:\n",
       "- name: World.\n",
       "- bounds: (-180.0, -90.0, 180.0, 90.0)\n",
       "Datum: World Geodetic System 1984 ensemble\n",
       "- Ellipsoid: WGS 84\n",
       "- Prime Meridian: Greenwich"
      ]
     },
     "execution_count": 16,
     "metadata": {},
     "output_type": "execute_result"
    }
   ],
   "source": [
    "# CRS\n",
    "geo_park.crs"
   ]
  },
  {
   "cell_type": "markdown",
   "id": "418411e0-7288-457c-afac-df7e40b48f3f",
   "metadata": {},
   "source": [
    "## Reading"
   ]
  },
  {
   "cell_type": "markdown",
   "id": "68efcc2c-5613-4ab8-8e6b-277ed6542c52",
   "metadata": {},
   "source": [
    "### Jaguar records"
   ]
  },
  {
   "cell_type": "code",
   "execution_count": 17,
   "id": "beb4ec0b-892b-4665-9e7f-9009cf46b06e",
   "metadata": {},
   "outputs": [],
   "source": [
    "# Set geometry\n",
    "#geometry = gpd.points_from_xy(raw_jag['longitude'], raw_jag['latitude'])"
   ]
  },
  {
   "cell_type": "code",
   "execution_count": 18,
   "id": "0d009b00-e0a5-4ad7-87c8-5add9eca4838",
   "metadata": {},
   "outputs": [],
   "source": [
    "# Reading geopandas df\n",
    "geo_jag = gpd.GeoDataFrame(raw_jag, geometry=gpd.points_from_xy(raw_jag.longitude, raw_jag.latitude), crs=\"EPSG:4326\")"
   ]
  },
  {
   "cell_type": "code",
   "execution_count": 19,
   "id": "a6b0e84d-c9cc-4179-9c7e-18b8c347c4ed",
   "metadata": {},
   "outputs": [
    {
     "data": {
      "text/html": [
       "<div>\n",
       "<style scoped>\n",
       "    .dataframe tbody tr th:only-of-type {\n",
       "        vertical-align: middle;\n",
       "    }\n",
       "\n",
       "    .dataframe tbody tr th {\n",
       "        vertical-align: top;\n",
       "    }\n",
       "\n",
       "    .dataframe thead th {\n",
       "        text-align: right;\n",
       "    }\n",
       "</style>\n",
       "<table border=\"1\" class=\"dataframe\">\n",
       "  <thead>\n",
       "    <tr style=\"text-align: right;\">\n",
       "      <th></th>\n",
       "      <th>issue</th>\n",
       "      <th>mediaType</th>\n",
       "      <th>license</th>\n",
       "      <th>dateIdentified</th>\n",
       "      <th>family</th>\n",
       "      <th>verbatimScientificNameAuthorship</th>\n",
       "      <th>institutionCode</th>\n",
       "      <th>genus</th>\n",
       "      <th>basisOfRecord</th>\n",
       "      <th>taxonKey</th>\n",
       "      <th>...</th>\n",
       "      <th>year</th>\n",
       "      <th>speciesKey</th>\n",
       "      <th>decimalLongitude</th>\n",
       "      <th>gbifID</th>\n",
       "      <th>order</th>\n",
       "      <th>datasetKey</th>\n",
       "      <th>geometry</th>\n",
       "      <th>stateProvince</th>\n",
       "      <th>longitude</th>\n",
       "      <th>latitude</th>\n",
       "    </tr>\n",
       "  </thead>\n",
       "  <tbody>\n",
       "    <tr>\n",
       "      <th>0</th>\n",
       "      <td>COORDINATE_ROUNDED;INSTITUTION_MATCH_NONE;COLL...</td>\n",
       "      <td>NaN</td>\n",
       "      <td>CC_BY_NC_4_0</td>\n",
       "      <td>1970-01-01T00:00:00.000Z</td>\n",
       "      <td>Felidae</td>\n",
       "      <td>NaN</td>\n",
       "      <td>IIAP</td>\n",
       "      <td>Puma</td>\n",
       "      <td>HUMAN_OBSERVATION</td>\n",
       "      <td>2435099</td>\n",
       "      <td>...</td>\n",
       "      <td>2012</td>\n",
       "      <td>2435099</td>\n",
       "      <td>-76.686556</td>\n",
       "      <td>1503125323</td>\n",
       "      <td>Carnivora</td>\n",
       "      <td>5995e6ec-ec8e-4021-ab7b-37806367c48a</td>\n",
       "      <td>POINT (-76.68656 5.13336)</td>\n",
       "      <td>Chocó</td>\n",
       "      <td>-76.686556</td>\n",
       "      <td>5.133361</td>\n",
       "    </tr>\n",
       "    <tr>\n",
       "      <th>1</th>\n",
       "      <td>NaN</td>\n",
       "      <td>NaN</td>\n",
       "      <td>CC_BY_4_0</td>\n",
       "      <td>1970-01-01T00:00:00.000Z</td>\n",
       "      <td>Felidae</td>\n",
       "      <td>(Linnaeus, 1771)</td>\n",
       "      <td>Terrasos</td>\n",
       "      <td>Puma</td>\n",
       "      <td>MACHINE_OBSERVATION</td>\n",
       "      <td>2435099</td>\n",
       "      <td>...</td>\n",
       "      <td>2019</td>\n",
       "      <td>2435099</td>\n",
       "      <td>-73.409921</td>\n",
       "      <td>2556487738</td>\n",
       "      <td>Carnivora</td>\n",
       "      <td>cf557dff-b9cb-4a23-bf74-a927fef0d7b6</td>\n",
       "      <td>POINT (-73.40992 3.55157)</td>\n",
       "      <td>Meta</td>\n",
       "      <td>-73.409921</td>\n",
       "      <td>3.551567</td>\n",
       "    </tr>\n",
       "    <tr>\n",
       "      <th>2</th>\n",
       "      <td>NaN</td>\n",
       "      <td>NaN</td>\n",
       "      <td>CC_BY_4_0</td>\n",
       "      <td>1970-01-01T00:00:00.000Z</td>\n",
       "      <td>Felidae</td>\n",
       "      <td>(Linnaeus, 1771)</td>\n",
       "      <td>Terrasos</td>\n",
       "      <td>Puma</td>\n",
       "      <td>MACHINE_OBSERVATION</td>\n",
       "      <td>2435099</td>\n",
       "      <td>...</td>\n",
       "      <td>2020</td>\n",
       "      <td>2435099</td>\n",
       "      <td>-73.409498</td>\n",
       "      <td>3332427318</td>\n",
       "      <td>Carnivora</td>\n",
       "      <td>cf557dff-b9cb-4a23-bf74-a927fef0d7b6</td>\n",
       "      <td>POINT (-73.40950 3.52605)</td>\n",
       "      <td>Meta</td>\n",
       "      <td>-73.409498</td>\n",
       "      <td>3.526048</td>\n",
       "    </tr>\n",
       "    <tr>\n",
       "      <th>3</th>\n",
       "      <td>INSTITUTION_MATCH_NONE;COLLECTION_MATCH_NONE</td>\n",
       "      <td>NaN</td>\n",
       "      <td>CC_BY_NC_4_0</td>\n",
       "      <td>1970-01-01T00:00:00.000Z</td>\n",
       "      <td>Felidae</td>\n",
       "      <td>(Linnaeus, 1771)</td>\n",
       "      <td>PROMIGAS S.A. E.S.P. (Promigas)</td>\n",
       "      <td>Puma</td>\n",
       "      <td>HUMAN_OBSERVATION</td>\n",
       "      <td>2435099</td>\n",
       "      <td>...</td>\n",
       "      <td>2017</td>\n",
       "      <td>2435099</td>\n",
       "      <td>-75.189814</td>\n",
       "      <td>3019065673</td>\n",
       "      <td>Carnivora</td>\n",
       "      <td>8c145caa-8dca-40e6-b082-741e0d6b8f83</td>\n",
       "      <td>POINT (-75.18981 10.68638)</td>\n",
       "      <td>Atlántico</td>\n",
       "      <td>-75.189814</td>\n",
       "      <td>10.686383</td>\n",
       "    </tr>\n",
       "    <tr>\n",
       "      <th>4</th>\n",
       "      <td>GEODETIC_DATUM_ASSUMED_WGS84;COUNTRY_DERIVED_F...</td>\n",
       "      <td>NaN</td>\n",
       "      <td>CC_BY_4_0</td>\n",
       "      <td>1970-01-01T00:00:00.000Z</td>\n",
       "      <td>Felidae</td>\n",
       "      <td>NaN</td>\n",
       "      <td>NaN</td>\n",
       "      <td>Puma</td>\n",
       "      <td>PRESERVED_SPECIMEN</td>\n",
       "      <td>2435099</td>\n",
       "      <td>...</td>\n",
       "      <td>1996</td>\n",
       "      <td>2435099</td>\n",
       "      <td>-125.830000</td>\n",
       "      <td>2306925380</td>\n",
       "      <td>Carnivora</td>\n",
       "      <td>ad43e954-dd79-4986-ae34-9ccdbd8bf568</td>\n",
       "      <td>POINT (-125.83000 49.67000)</td>\n",
       "      <td>NaN</td>\n",
       "      <td>-125.830000</td>\n",
       "      <td>49.670000</td>\n",
       "    </tr>\n",
       "  </tbody>\n",
       "</table>\n",
       "<p>5 rows × 53 columns</p>\n",
       "</div>"
      ],
      "text/plain": [
       "                                               issue mediaType       license  \\\n",
       "0  COORDINATE_ROUNDED;INSTITUTION_MATCH_NONE;COLL...       NaN  CC_BY_NC_4_0   \n",
       "1                                                NaN       NaN     CC_BY_4_0   \n",
       "2                                                NaN       NaN     CC_BY_4_0   \n",
       "3       INSTITUTION_MATCH_NONE;COLLECTION_MATCH_NONE       NaN  CC_BY_NC_4_0   \n",
       "4  GEODETIC_DATUM_ASSUMED_WGS84;COUNTRY_DERIVED_F...       NaN     CC_BY_4_0   \n",
       "\n",
       "             dateIdentified   family verbatimScientificNameAuthorship  \\\n",
       "0  1970-01-01T00:00:00.000Z  Felidae                              NaN   \n",
       "1  1970-01-01T00:00:00.000Z  Felidae                 (Linnaeus, 1771)   \n",
       "2  1970-01-01T00:00:00.000Z  Felidae                 (Linnaeus, 1771)   \n",
       "3  1970-01-01T00:00:00.000Z  Felidae                 (Linnaeus, 1771)   \n",
       "4  1970-01-01T00:00:00.000Z  Felidae                              NaN   \n",
       "\n",
       "                   institutionCode genus        basisOfRecord  taxonKey  ...  \\\n",
       "0                             IIAP  Puma    HUMAN_OBSERVATION   2435099  ...   \n",
       "1                         Terrasos  Puma  MACHINE_OBSERVATION   2435099  ...   \n",
       "2                         Terrasos  Puma  MACHINE_OBSERVATION   2435099  ...   \n",
       "3  PROMIGAS S.A. E.S.P. (Promigas)  Puma    HUMAN_OBSERVATION   2435099  ...   \n",
       "4                              NaN  Puma   PRESERVED_SPECIMEN   2435099  ...   \n",
       "\n",
       "   year  speciesKey  decimalLongitude      gbifID      order  \\\n",
       "0  2012     2435099        -76.686556  1503125323  Carnivora   \n",
       "1  2019     2435099        -73.409921  2556487738  Carnivora   \n",
       "2  2020     2435099        -73.409498  3332427318  Carnivora   \n",
       "3  2017     2435099        -75.189814  3019065673  Carnivora   \n",
       "4  1996     2435099       -125.830000  2306925380  Carnivora   \n",
       "\n",
       "                             datasetKey                     geometry  \\\n",
       "0  5995e6ec-ec8e-4021-ab7b-37806367c48a    POINT (-76.68656 5.13336)   \n",
       "1  cf557dff-b9cb-4a23-bf74-a927fef0d7b6    POINT (-73.40992 3.55157)   \n",
       "2  cf557dff-b9cb-4a23-bf74-a927fef0d7b6    POINT (-73.40950 3.52605)   \n",
       "3  8c145caa-8dca-40e6-b082-741e0d6b8f83   POINT (-75.18981 10.68638)   \n",
       "4  ad43e954-dd79-4986-ae34-9ccdbd8bf568  POINT (-125.83000 49.67000)   \n",
       "\n",
       "   stateProvince   longitude   latitude  \n",
       "0          Chocó  -76.686556   5.133361  \n",
       "1           Meta  -73.409921   3.551567  \n",
       "2           Meta  -73.409498   3.526048  \n",
       "3      Atlántico  -75.189814  10.686383  \n",
       "4            NaN -125.830000  49.670000  \n",
       "\n",
       "[5 rows x 53 columns]"
      ]
     },
     "execution_count": 19,
     "metadata": {},
     "output_type": "execute_result"
    }
   ],
   "source": [
    "# Data reading\n",
    "geo_jag.head()"
   ]
  },
  {
   "cell_type": "code",
   "execution_count": 20,
   "id": "909db8da-6f6d-4305-bf47-1020dcdc7a19",
   "metadata": {},
   "outputs": [
    {
     "name": "stdout",
     "output_type": "stream",
     "text": [
      "<class 'geopandas.geodataframe.GeoDataFrame'>\n",
      "RangeIndex: 6790 entries, 0 to 6789\n",
      "Data columns (total 53 columns):\n",
      " #   Column                            Non-Null Count  Dtype   \n",
      "---  ------                            --------------  -----   \n",
      " 0   issue                             6232 non-null   object  \n",
      " 1   mediaType                         2961 non-null   object  \n",
      " 2   license                           6790 non-null   object  \n",
      " 3   dateIdentified                    6790 non-null   object  \n",
      " 4   family                            6790 non-null   object  \n",
      " 5   verbatimScientificNameAuthorship  2225 non-null   object  \n",
      " 6   institutionCode                   6754 non-null   object  \n",
      " 7   genus                             6790 non-null   object  \n",
      " 8   basisOfRecord                     6790 non-null   object  \n",
      " 9   taxonKey                          6790 non-null   int64   \n",
      " 10  month                             6790 non-null   int64   \n",
      " 11  individualCount                   1526 non-null   float64 \n",
      " 12  day                               6790 non-null   int64   \n",
      " 13  recordedBy                        6627 non-null   object  \n",
      " 14  establishmentMeans                292 non-null    object  \n",
      " 15  eventDate                         6790 non-null   object  \n",
      " 16  catalogNumber                     6466 non-null   object  \n",
      " 17  depthAccuracy                     1690 non-null   float64 \n",
      " 18  depth                             1690 non-null   float64 \n",
      " 19  elevationAccuracy                 1966 non-null   float64 \n",
      " 20  countryCode                       6790 non-null   object  \n",
      " 21  recordNumber                      376 non-null    object  \n",
      " 22  coordinatePrecision               77 non-null     float64 \n",
      " 23  coordinateUncertaintyInMeters     4551 non-null   float64 \n",
      " 24  kingdom                           6790 non-null   object  \n",
      " 25  publishingOrgKey                  6790 non-null   object  \n",
      " 26  locality                          3698 non-null   object  \n",
      " 27  class                             6790 non-null   object  \n",
      " 28  phylum                            6790 non-null   object  \n",
      " 29  decimalLatitude                   6790 non-null   float64 \n",
      " 30  taxonRank                         6790 non-null   object  \n",
      " 31  rightsHolder                      3809 non-null   object  \n",
      " 32  infraspecificEpithet              992 non-null    object  \n",
      " 33  species                           6790 non-null   object  \n",
      " 34  identifiedBy                      4822 non-null   object  \n",
      " 35  elevation                         2176 non-null   float64 \n",
      " 36  lastInterpreted                   6790 non-null   object  \n",
      " 37  occurrenceID                      5443 non-null   object  \n",
      " 38  typeStatus                        9 non-null      object  \n",
      " 39  collectionCode                    6279 non-null   object  \n",
      " 40  verbatimScientificName            6790 non-null   object  \n",
      " 41  occurrenceStatus                  6790 non-null   object  \n",
      " 42  scientificName                    6790 non-null   object  \n",
      " 43  year                              6790 non-null   int64   \n",
      " 44  speciesKey                        6790 non-null   int64   \n",
      " 45  decimalLongitude                  6790 non-null   float64 \n",
      " 46  gbifID                            6790 non-null   int64   \n",
      " 47  order                             6790 non-null   object  \n",
      " 48  datasetKey                        6790 non-null   object  \n",
      " 49  geometry                          6790 non-null   geometry\n",
      " 50  stateProvince                     6715 non-null   object  \n",
      " 51  longitude                         6790 non-null   float64 \n",
      " 52  latitude                          6790 non-null   float64 \n",
      "dtypes: float64(11), geometry(1), int64(6), object(35)\n",
      "memory usage: 2.7+ MB\n"
     ]
    }
   ],
   "source": [
    "# Data review\n",
    "geo_jag.info()"
   ]
  },
  {
   "cell_type": "code",
   "execution_count": 21,
   "id": "decb012a-b050-44d2-b4f6-af00288b0674",
   "metadata": {},
   "outputs": [
    {
     "data": {
      "text/plain": [
       "<AxesSubplot:>"
      ]
     },
     "execution_count": 21,
     "metadata": {},
     "output_type": "execute_result"
    },
    {
     "data": {
      "image/png": "[encoded data removed]",
      "text/plain": [
       "<Figure size 432x288 with 1 Axes>"
      ]
     },
     "metadata": {
      "needs_background": "light"
     },
     "output_type": "display_data"
    }
   ],
   "source": [
    "# Geometry\n",
    "geo_jag.plot() "
   ]
  },
  {
   "cell_type": "code",
   "execution_count": 22,
   "id": "0e7f1076-b3fb-404f-8ccb-0f485daa84c5",
   "metadata": {},
   "outputs": [],
   "source": [
    "# Setting CRS\n",
    "geo_jag = geo_jag.to_crs(crs=\"EPSG:4686\")"
   ]
  },
  {
   "cell_type": "code",
   "execution_count": 23,
   "id": "d304f7cc-ad97-482c-9954-1cdcfc7a6838",
   "metadata": {},
   "outputs": [
    {
     "data": {
      "text/plain": [
       "<Geographic 2D CRS: EPSG:4686>\n",
       "Name: MAGNA-SIRGAS\n",
       "Axis Info [ellipsoidal]:\n",
       "- Lat[north]: Geodetic latitude (degree)\n",
       "- Lon[east]: Geodetic longitude (degree)\n",
       "Area of Use:\n",
       "- name: Colombia - onshore and offshore. Includes San Andres y Providencia, Malpelo Islands, Roncador Bank, Serrana Bank and Serranilla Bank.\n",
       "- bounds: (-84.77, -4.23, -66.87, 15.51)\n",
       "Datum: Marco Geocentrico Nacional de Referencia\n",
       "- Ellipsoid: GRS 1980\n",
       "- Prime Meridian: Greenwich"
      ]
     },
     "execution_count": 23,
     "metadata": {},
     "output_type": "execute_result"
    }
   ],
   "source": [
    "# Review new CRS\n",
    "geo_jag.crs"
   ]
  },
  {
   "cell_type": "markdown",
   "id": "e35c8c69-a1b3-4a0c-9368-8aa3301d4095",
   "metadata": {},
   "source": [
    "### Natural parks data"
   ]
  },
  {
   "cell_type": "code",
   "execution_count": 24,
   "id": "ec633e08-382b-4147-8554-366fe86c9c08",
   "metadata": {},
   "outputs": [],
   "source": [
    "# Setting CRS\n",
    "geo_park = geo_park.to_crs(crs=\"EPSG:4686\")"
   ]
  },
  {
   "cell_type": "code",
   "execution_count": 25,
   "id": "e76833a9-ab71-490b-aa94-d13f7180ed19",
   "metadata": {},
   "outputs": [
    {
     "data": {
      "text/plain": [
       "<Geographic 2D CRS: EPSG:4686>\n",
       "Name: MAGNA-SIRGAS\n",
       "Axis Info [ellipsoidal]:\n",
       "- Lat[north]: Geodetic latitude (degree)\n",
       "- Lon[east]: Geodetic longitude (degree)\n",
       "Area of Use:\n",
       "- name: Colombia - onshore and offshore. Includes San Andres y Providencia, Malpelo Islands, Roncador Bank, Serrana Bank and Serranilla Bank.\n",
       "- bounds: (-84.77, -4.23, -66.87, 15.51)\n",
       "Datum: Marco Geocentrico Nacional de Referencia\n",
       "- Ellipsoid: GRS 1980\n",
       "- Prime Meridian: Greenwich"
      ]
     },
     "execution_count": 25,
     "metadata": {},
     "output_type": "execute_result"
    }
   ],
   "source": [
    "# Review new CRS\n",
    "geo_park.crs"
   ]
  },
  {
   "cell_type": "markdown",
   "id": "1a5ce835-309d-42c8-acf9-83bead0e6046",
   "metadata": {},
   "source": [
    "## Subsetting"
   ]
  },
  {
   "cell_type": "markdown",
   "id": "5787fcc1-e3e8-4d0b-8920-e313000a42ee",
   "metadata": {},
   "source": [
    "### Spatial subsetting"
   ]
  },
  {
   "cell_type": "code",
   "execution_count": 26,
   "id": "f7d4c83b-0bc1-4616-80db-0fd8a38a3660",
   "metadata": {},
   "outputs": [],
   "source": [
    "geo_jag_col = gpd.clip(geo_jag, geo_mun)"
   ]
  },
  {
   "cell_type": "code",
   "execution_count": 27,
   "id": "be73915a-78ff-4ab4-935a-3cd846b7cc36",
   "metadata": {},
   "outputs": [
    {
     "data": {
      "text/plain": [
       "(544, 53)"
      ]
     },
     "execution_count": 27,
     "metadata": {},
     "output_type": "execute_result"
    }
   ],
   "source": [
    "geo_jag_col.shape"
   ]
  },
  {
   "cell_type": "code",
   "execution_count": 28,
   "id": "fea56655-aaa3-42e9-a2da-5bacd3eb58b4",
   "metadata": {},
   "outputs": [
    {
     "data": {
      "text/html": [
       "<div>\n",
       "<style scoped>\n",
       "    .dataframe tbody tr th:only-of-type {\n",
       "        vertical-align: middle;\n",
       "    }\n",
       "\n",
       "    .dataframe tbody tr th {\n",
       "        vertical-align: top;\n",
       "    }\n",
       "\n",
       "    .dataframe thead th {\n",
       "        text-align: right;\n",
       "    }\n",
       "</style>\n",
       "<table border=\"1\" class=\"dataframe\">\n",
       "  <thead>\n",
       "    <tr style=\"text-align: right;\">\n",
       "      <th></th>\n",
       "      <th>issue</th>\n",
       "      <th>mediaType</th>\n",
       "      <th>license</th>\n",
       "      <th>dateIdentified</th>\n",
       "      <th>family</th>\n",
       "      <th>verbatimScientificNameAuthorship</th>\n",
       "      <th>institutionCode</th>\n",
       "      <th>genus</th>\n",
       "      <th>basisOfRecord</th>\n",
       "      <th>taxonKey</th>\n",
       "      <th>...</th>\n",
       "      <th>year</th>\n",
       "      <th>speciesKey</th>\n",
       "      <th>decimalLongitude</th>\n",
       "      <th>gbifID</th>\n",
       "      <th>order</th>\n",
       "      <th>datasetKey</th>\n",
       "      <th>geometry</th>\n",
       "      <th>stateProvince</th>\n",
       "      <th>longitude</th>\n",
       "      <th>latitude</th>\n",
       "    </tr>\n",
       "  </thead>\n",
       "  <tbody>\n",
       "    <tr>\n",
       "      <th>461</th>\n",
       "      <td>PRESUMED_SWAPPED_COORDINATE;OCCURRENCE_STATUS_...</td>\n",
       "      <td>NaN</td>\n",
       "      <td>CC_BY_4_0</td>\n",
       "      <td>2016-10-11T00:00:00.000Z</td>\n",
       "      <td>Felidae</td>\n",
       "      <td>(Linnaeus, 1771)</td>\n",
       "      <td>CORMACARENA</td>\n",
       "      <td>Puma</td>\n",
       "      <td>HUMAN_OBSERVATION</td>\n",
       "      <td>2435099</td>\n",
       "      <td>...</td>\n",
       "      <td>2016</td>\n",
       "      <td>2435099</td>\n",
       "      <td>-73.793000</td>\n",
       "      <td>1804707606</td>\n",
       "      <td>Carnivora</td>\n",
       "      <td>bd87ead7-eb08-40ec-8ea3-1a61c134ec56</td>\n",
       "      <td>POINT (-73.79300 2.26100)</td>\n",
       "      <td>Meta</td>\n",
       "      <td>-73.793000</td>\n",
       "      <td>2.261000</td>\n",
       "    </tr>\n",
       "    <tr>\n",
       "      <th>5959</th>\n",
       "      <td>NaN</td>\n",
       "      <td>NaN</td>\n",
       "      <td>CC_BY_NC_4_0</td>\n",
       "      <td>2019-08-25T00:00:00.000Z</td>\n",
       "      <td>Felidae</td>\n",
       "      <td>(Linnaeus, 1771)</td>\n",
       "      <td>Asociación Colombiana de Zoología (ACZ)</td>\n",
       "      <td>Puma</td>\n",
       "      <td>MACHINE_OBSERVATION</td>\n",
       "      <td>2435099</td>\n",
       "      <td>...</td>\n",
       "      <td>2019</td>\n",
       "      <td>2435099</td>\n",
       "      <td>-72.440560</td>\n",
       "      <td>3118575442</td>\n",
       "      <td>Carnivora</td>\n",
       "      <td>a9a819bb-b94e-4e06-bbbd-4cc1eb6f3b1c</td>\n",
       "      <td>POINT (-72.44056 -0.55063)</td>\n",
       "      <td>Caquetá</td>\n",
       "      <td>-72.440560</td>\n",
       "      <td>-0.550630</td>\n",
       "    </tr>\n",
       "    <tr>\n",
       "      <th>743</th>\n",
       "      <td>OCCURRENCE_STATUS_INFERRED_FROM_INDIVIDUAL_COU...</td>\n",
       "      <td>NaN</td>\n",
       "      <td>CC_BY_4_0</td>\n",
       "      <td>2011-01-01T00:00:00.000Z</td>\n",
       "      <td>Felidae</td>\n",
       "      <td>Linnaeus, 1771</td>\n",
       "      <td>Cormacarena</td>\n",
       "      <td>Puma</td>\n",
       "      <td>HUMAN_OBSERVATION</td>\n",
       "      <td>2435099</td>\n",
       "      <td>...</td>\n",
       "      <td>2011</td>\n",
       "      <td>2435099</td>\n",
       "      <td>-72.903524</td>\n",
       "      <td>1978369815</td>\n",
       "      <td>Carnivora</td>\n",
       "      <td>0fca9cb2-caaa-499d-bf3d-8920c69a3a35</td>\n",
       "      <td>POINT (-72.90352 3.27006)</td>\n",
       "      <td>Meta</td>\n",
       "      <td>-72.903524</td>\n",
       "      <td>3.270060</td>\n",
       "    </tr>\n",
       "    <tr>\n",
       "      <th>761</th>\n",
       "      <td>OCCURRENCE_STATUS_INFERRED_FROM_INDIVIDUAL_COU...</td>\n",
       "      <td>NaN</td>\n",
       "      <td>CC_BY_4_0</td>\n",
       "      <td>2011-01-01T00:00:00.000Z</td>\n",
       "      <td>Felidae</td>\n",
       "      <td>Linnaeus, 1771</td>\n",
       "      <td>Cormacarena</td>\n",
       "      <td>Puma</td>\n",
       "      <td>HUMAN_OBSERVATION</td>\n",
       "      <td>2435099</td>\n",
       "      <td>...</td>\n",
       "      <td>2011</td>\n",
       "      <td>2435099</td>\n",
       "      <td>-72.627905</td>\n",
       "      <td>1978369684</td>\n",
       "      <td>Carnivora</td>\n",
       "      <td>0fca9cb2-caaa-499d-bf3d-8920c69a3a35</td>\n",
       "      <td>POINT (-72.62790 3.36900)</td>\n",
       "      <td>Meta</td>\n",
       "      <td>-72.627905</td>\n",
       "      <td>3.369002</td>\n",
       "    </tr>\n",
       "    <tr>\n",
       "      <th>764</th>\n",
       "      <td>OCCURRENCE_STATUS_INFERRED_FROM_INDIVIDUAL_COU...</td>\n",
       "      <td>NaN</td>\n",
       "      <td>CC_BY_4_0</td>\n",
       "      <td>2011-01-01T00:00:00.000Z</td>\n",
       "      <td>Felidae</td>\n",
       "      <td>Linnaeus, 1771</td>\n",
       "      <td>Cormacarena</td>\n",
       "      <td>Puma</td>\n",
       "      <td>HUMAN_OBSERVATION</td>\n",
       "      <td>2435099</td>\n",
       "      <td>...</td>\n",
       "      <td>2011</td>\n",
       "      <td>2435099</td>\n",
       "      <td>-72.511963</td>\n",
       "      <td>1978369755</td>\n",
       "      <td>Carnivora</td>\n",
       "      <td>0fca9cb2-caaa-499d-bf3d-8920c69a3a35</td>\n",
       "      <td>POINT (-72.51196 3.45241)</td>\n",
       "      <td>Meta</td>\n",
       "      <td>-72.511963</td>\n",
       "      <td>3.452407</td>\n",
       "    </tr>\n",
       "  </tbody>\n",
       "</table>\n",
       "<p>5 rows × 53 columns</p>\n",
       "</div>"
      ],
      "text/plain": [
       "                                                  issue mediaType  \\\n",
       "461   PRESUMED_SWAPPED_COORDINATE;OCCURRENCE_STATUS_...       NaN   \n",
       "5959                                                NaN       NaN   \n",
       "743   OCCURRENCE_STATUS_INFERRED_FROM_INDIVIDUAL_COU...       NaN   \n",
       "761   OCCURRENCE_STATUS_INFERRED_FROM_INDIVIDUAL_COU...       NaN   \n",
       "764   OCCURRENCE_STATUS_INFERRED_FROM_INDIVIDUAL_COU...       NaN   \n",
       "\n",
       "           license            dateIdentified   family  \\\n",
       "461      CC_BY_4_0  2016-10-11T00:00:00.000Z  Felidae   \n",
       "5959  CC_BY_NC_4_0  2019-08-25T00:00:00.000Z  Felidae   \n",
       "743      CC_BY_4_0  2011-01-01T00:00:00.000Z  Felidae   \n",
       "761      CC_BY_4_0  2011-01-01T00:00:00.000Z  Felidae   \n",
       "764      CC_BY_4_0  2011-01-01T00:00:00.000Z  Felidae   \n",
       "\n",
       "     verbatimScientificNameAuthorship  \\\n",
       "461                  (Linnaeus, 1771)   \n",
       "5959                 (Linnaeus, 1771)   \n",
       "743                    Linnaeus, 1771   \n",
       "761                    Linnaeus, 1771   \n",
       "764                    Linnaeus, 1771   \n",
       "\n",
       "                              institutionCode genus        basisOfRecord  \\\n",
       "461                               CORMACARENA  Puma    HUMAN_OBSERVATION   \n",
       "5959  Asociación Colombiana de Zoología (ACZ)  Puma  MACHINE_OBSERVATION   \n",
       "743                               Cormacarena  Puma    HUMAN_OBSERVATION   \n",
       "761                               Cormacarena  Puma    HUMAN_OBSERVATION   \n",
       "764                               Cormacarena  Puma    HUMAN_OBSERVATION   \n",
       "\n",
       "      taxonKey  ...  year  speciesKey  decimalLongitude      gbifID  \\\n",
       "461    2435099  ...  2016     2435099        -73.793000  1804707606   \n",
       "5959   2435099  ...  2019     2435099        -72.440560  3118575442   \n",
       "743    2435099  ...  2011     2435099        -72.903524  1978369815   \n",
       "761    2435099  ...  2011     2435099        -72.627905  1978369684   \n",
       "764    2435099  ...  2011     2435099        -72.511963  1978369755   \n",
       "\n",
       "          order                            datasetKey  \\\n",
       "461   Carnivora  bd87ead7-eb08-40ec-8ea3-1a61c134ec56   \n",
       "5959  Carnivora  a9a819bb-b94e-4e06-bbbd-4cc1eb6f3b1c   \n",
       "743   Carnivora  0fca9cb2-caaa-499d-bf3d-8920c69a3a35   \n",
       "761   Carnivora  0fca9cb2-caaa-499d-bf3d-8920c69a3a35   \n",
       "764   Carnivora  0fca9cb2-caaa-499d-bf3d-8920c69a3a35   \n",
       "\n",
       "                        geometry  stateProvince  longitude  latitude  \n",
       "461    POINT (-73.79300 2.26100)           Meta -73.793000  2.261000  \n",
       "5959  POINT (-72.44056 -0.55063)        Caquetá -72.440560 -0.550630  \n",
       "743    POINT (-72.90352 3.27006)           Meta -72.903524  3.270060  \n",
       "761    POINT (-72.62790 3.36900)           Meta -72.627905  3.369002  \n",
       "764    POINT (-72.51196 3.45241)           Meta -72.511963  3.452407  \n",
       "\n",
       "[5 rows x 53 columns]"
      ]
     },
     "execution_count": 28,
     "metadata": {},
     "output_type": "execute_result"
    }
   ],
   "source": [
    "geo_jag_col.head()"
   ]
  },
  {
   "cell_type": "code",
   "execution_count": 29,
   "id": "ed98224c-44df-4b75-838b-71c69a9c470c",
   "metadata": {},
   "outputs": [
    {
     "data": {
      "text/plain": [
       "<AxesSubplot:>"
      ]
     },
     "execution_count": 29,
     "metadata": {},
     "output_type": "execute_result"
    },
    {
     "data": {
      "image/png": "[encoded data removed]",
      "text/plain": [
       "<Figure size 864x648 with 1 Axes>"
      ]
     },
     "metadata": {
      "needs_background": "light"
     },
     "output_type": "display_data"
    }
   ],
   "source": [
    "# Geometry\n",
    "fig, ax = plt.subplots(1,1, figsize=(12,9))\n",
    "geo_jag_col.plot(ax=ax) "
   ]
  },
  {
   "cell_type": "markdown",
   "id": "d641132a-603f-46d0-9f67-2de38dc10ed8",
   "metadata": {},
   "source": [
    "## Spatial aggregation"
   ]
  },
  {
   "cell_type": "markdown",
   "id": "441d621f-100f-474a-bde0-bdf9c51f21dc",
   "metadata": {},
   "source": [
    "### Record count"
   ]
  },
  {
   "cell_type": "code",
   "execution_count": 30,
   "id": "91d3c37c-0759-4fc9-8f62-f6e68625aeff",
   "metadata": {},
   "outputs": [],
   "source": [
    "# Create a record count column\n",
    "geo_mun['record_count'] = 0"
   ]
  },
  {
   "cell_type": "code",
   "execution_count": 31,
   "id": "e5ca713a-fad1-412b-a4ab-5b2a2d43f6cc",
   "metadata": {},
   "outputs": [],
   "source": [
    "# Count number of record in each municipality\n",
    "for index, mun in geo_mun.iterrows():\n",
    "    # Filter points that intersect with the current polygon\n",
    "    intersecting_points = geo_jag_col[geo_jag_col.intersects(mun.geometry)]\n",
    "    \n",
    "    # Count the number of intersecting points\n",
    "    count = len(intersecting_points)\n",
    "    \n",
    "    # Store the count in the 'point_count' column\n",
    "    geo_mun.loc[index, 'record_count'] = count\n",
    "\n"
   ]
  },
  {
   "cell_type": "code",
   "execution_count": 32,
   "id": "1d57c755-e613-453c-8a6a-2527a30d932f",
   "metadata": {},
   "outputs": [
    {
     "data": {
      "text/html": [
       "<div>\n",
       "<style scoped>\n",
       "    .dataframe tbody tr th:only-of-type {\n",
       "        vertical-align: middle;\n",
       "    }\n",
       "\n",
       "    .dataframe tbody tr th {\n",
       "        vertical-align: top;\n",
       "    }\n",
       "\n",
       "    .dataframe thead th {\n",
       "        text-align: right;\n",
       "    }\n",
       "</style>\n",
       "<table border=\"1\" class=\"dataframe\">\n",
       "  <thead>\n",
       "    <tr style=\"text-align: right;\">\n",
       "      <th></th>\n",
       "      <th>DPTO_CCDGO</th>\n",
       "      <th>MPIO_CCDGO</th>\n",
       "      <th>MPIO_CDPMP</th>\n",
       "      <th>DPTO_CNMBR</th>\n",
       "      <th>MPIO_CNMBR</th>\n",
       "      <th>MPIO_CRSLC</th>\n",
       "      <th>MPIO_NAREA</th>\n",
       "      <th>MPIO_CSMBL</th>\n",
       "      <th>MPIO_VGNC</th>\n",
       "      <th>MPIO_TIPO</th>\n",
       "      <th>Shape_Leng</th>\n",
       "      <th>Shape_Area</th>\n",
       "      <th>geometry</th>\n",
       "      <th>record_count</th>\n",
       "    </tr>\n",
       "  </thead>\n",
       "  <tbody>\n",
       "    <tr>\n",
       "      <th>0</th>\n",
       "      <td>05</td>\n",
       "      <td>001</td>\n",
       "      <td>05001</td>\n",
       "      <td>ANTIOQUIA</td>\n",
       "      <td>MEDELLÍN</td>\n",
       "      <td>1965</td>\n",
       "      <td>374.812877</td>\n",
       "      <td>4</td>\n",
       "      <td>2021</td>\n",
       "      <td>MUNICIPIO</td>\n",
       "      <td>1.032546</td>\n",
       "      <td>0.030606</td>\n",
       "      <td>POLYGON ((-75.66974 6.37360, -75.66965 6.37360...</td>\n",
       "      <td>0</td>\n",
       "    </tr>\n",
       "    <tr>\n",
       "      <th>1</th>\n",
       "      <td>05</td>\n",
       "      <td>002</td>\n",
       "      <td>05002</td>\n",
       "      <td>ANTIOQUIA</td>\n",
       "      <td>ABEJORRAL</td>\n",
       "      <td>1814</td>\n",
       "      <td>507.141095</td>\n",
       "      <td>4</td>\n",
       "      <td>2021</td>\n",
       "      <td>MUNICIPIO</td>\n",
       "      <td>1.158504</td>\n",
       "      <td>0.041384</td>\n",
       "      <td>POLYGON ((-75.46938 5.94575, -75.46897 5.94571...</td>\n",
       "      <td>0</td>\n",
       "    </tr>\n",
       "    <tr>\n",
       "      <th>2</th>\n",
       "      <td>05</td>\n",
       "      <td>004</td>\n",
       "      <td>05004</td>\n",
       "      <td>ANTIOQUIA</td>\n",
       "      <td>ABRIAQUÍ</td>\n",
       "      <td>1912</td>\n",
       "      <td>296.894050</td>\n",
       "      <td>4</td>\n",
       "      <td>2021</td>\n",
       "      <td>MUNICIPIO</td>\n",
       "      <td>0.812183</td>\n",
       "      <td>0.024248</td>\n",
       "      <td>POLYGON ((-76.08351 6.75050, -76.08325 6.75048...</td>\n",
       "      <td>0</td>\n",
       "    </tr>\n",
       "    <tr>\n",
       "      <th>3</th>\n",
       "      <td>05</td>\n",
       "      <td>021</td>\n",
       "      <td>05021</td>\n",
       "      <td>ANTIOQUIA</td>\n",
       "      <td>ALEJANDRÍA</td>\n",
       "      <td>Decreto departamental 304 de 1907</td>\n",
       "      <td>128.932153</td>\n",
       "      <td>4</td>\n",
       "      <td>2021</td>\n",
       "      <td>MUNICIPIO</td>\n",
       "      <td>0.705200</td>\n",
       "      <td>0.010535</td>\n",
       "      <td>POLYGON ((-75.03320 6.41586, -75.03313 6.41585...</td>\n",
       "      <td>0</td>\n",
       "    </tr>\n",
       "    <tr>\n",
       "      <th>4</th>\n",
       "      <td>05</td>\n",
       "      <td>030</td>\n",
       "      <td>05030</td>\n",
       "      <td>ANTIOQUIA</td>\n",
       "      <td>AMAGÁ</td>\n",
       "      <td>1912</td>\n",
       "      <td>84.132675</td>\n",
       "      <td>4</td>\n",
       "      <td>2021</td>\n",
       "      <td>MUNICIPIO</td>\n",
       "      <td>0.445241</td>\n",
       "      <td>0.006867</td>\n",
       "      <td>POLYGON ((-75.67587 6.08561, -75.67540 6.08491...</td>\n",
       "      <td>0</td>\n",
       "    </tr>\n",
       "  </tbody>\n",
       "</table>\n",
       "</div>"
      ],
      "text/plain": [
       "  DPTO_CCDGO MPIO_CCDGO MPIO_CDPMP DPTO_CNMBR  MPIO_CNMBR  \\\n",
       "0         05        001      05001  ANTIOQUIA    MEDELLÍN   \n",
       "1         05        002      05002  ANTIOQUIA   ABEJORRAL   \n",
       "2         05        004      05004  ANTIOQUIA    ABRIAQUÍ   \n",
       "3         05        021      05021  ANTIOQUIA  ALEJANDRÍA   \n",
       "4         05        030      05030  ANTIOQUIA       AMAGÁ   \n",
       "\n",
       "                          MPIO_CRSLC  MPIO_NAREA MPIO_CSMBL  MPIO_VGNC  \\\n",
       "0                               1965  374.812877          4       2021   \n",
       "1                               1814  507.141095          4       2021   \n",
       "2                               1912  296.894050          4       2021   \n",
       "3  Decreto departamental 304 de 1907  128.932153          4       2021   \n",
       "4                               1912   84.132675          4       2021   \n",
       "\n",
       "   MPIO_TIPO  Shape_Leng  Shape_Area  \\\n",
       "0  MUNICIPIO    1.032546    0.030606   \n",
       "1  MUNICIPIO    1.158504    0.041384   \n",
       "2  MUNICIPIO    0.812183    0.024248   \n",
       "3  MUNICIPIO    0.705200    0.010535   \n",
       "4  MUNICIPIO    0.445241    0.006867   \n",
       "\n",
       "                                            geometry  record_count  \n",
       "0  POLYGON ((-75.66974 6.37360, -75.66965 6.37360...             0  \n",
       "1  POLYGON ((-75.46938 5.94575, -75.46897 5.94571...             0  \n",
       "2  POLYGON ((-76.08351 6.75050, -76.08325 6.75048...             0  \n",
       "3  POLYGON ((-75.03320 6.41586, -75.03313 6.41585...             0  \n",
       "4  POLYGON ((-75.67587 6.08561, -75.67540 6.08491...             0  "
      ]
     },
     "execution_count": 32,
     "metadata": {},
     "output_type": "execute_result"
    }
   ],
   "source": [
    "geo_mun.head()"
   ]
  },
  {
   "cell_type": "code",
   "execution_count": 33,
   "id": "59b3b626-b4f6-4df3-88a7-1364d77c4c40",
   "metadata": {},
   "outputs": [
    {
     "data": {
      "text/plain": [
       "count    1121.000000\n",
       "mean        0.485281\n",
       "std         3.354901\n",
       "min         0.000000\n",
       "25%         0.000000\n",
       "50%         0.000000\n",
       "75%         0.000000\n",
       "max        71.000000\n",
       "Name: record_count, dtype: float64"
      ]
     },
     "execution_count": 33,
     "metadata": {},
     "output_type": "execute_result"
    }
   ],
   "source": [
    "geo_mun['record_count'].describe()"
   ]
  },
  {
   "cell_type": "code",
   "execution_count": 34,
   "id": "38fe74a5-499c-4242-a4b5-064e5b870143",
   "metadata": {},
   "outputs": [
    {
     "data": {
      "text/plain": [
       "Text(0.5, 1.0, 'Record count')"
      ]
     },
     "execution_count": 34,
     "metadata": {},
     "output_type": "execute_result"
    },
    {
     "data": {
      "image/png": "[encoded data removed]",
      "text/plain": [
       "<Figure size 576x360 with 1 Axes>"
      ]
     },
     "metadata": {
      "needs_background": "light"
     },
     "output_type": "display_data"
    }
   ],
   "source": [
    "# Plotting by record count\n",
    "fig, ax = plt.subplots(1,1, figsize=(8,5),tight_layout=True)\n",
    "plt.suptitle('Jaguar record data distribution by municipality in Colombia',fontsize=18)\n",
    "geo_mun.hist(column='record_count',ax=ax,bins=75)\n",
    "\n",
    "# Titles\n",
    "ax.set_title(\"Record count\",fontsize=12)"
   ]
  },
  {
   "cell_type": "code",
   "execution_count": 35,
   "id": "3d09c6ca-4f30-434a-883a-2a0eb417545c",
   "metadata": {},
   "outputs": [
    {
     "data": {
      "text/html": [
       "<div>\n",
       "<style scoped>\n",
       "    .dataframe tbody tr th:only-of-type {\n",
       "        vertical-align: middle;\n",
       "    }\n",
       "\n",
       "    .dataframe tbody tr th {\n",
       "        vertical-align: top;\n",
       "    }\n",
       "\n",
       "    .dataframe thead th {\n",
       "        text-align: right;\n",
       "    }\n",
       "</style>\n",
       "<table border=\"1\" class=\"dataframe\">\n",
       "  <thead>\n",
       "    <tr style=\"text-align: right;\">\n",
       "      <th></th>\n",
       "      <th>DPTO_CCDGO</th>\n",
       "      <th>MPIO_CCDGO</th>\n",
       "      <th>MPIO_CDPMP</th>\n",
       "      <th>DPTO_CNMBR</th>\n",
       "      <th>MPIO_CNMBR</th>\n",
       "      <th>MPIO_CRSLC</th>\n",
       "      <th>MPIO_NAREA</th>\n",
       "      <th>MPIO_CSMBL</th>\n",
       "      <th>MPIO_VGNC</th>\n",
       "      <th>MPIO_TIPO</th>\n",
       "      <th>Shape_Leng</th>\n",
       "      <th>Shape_Area</th>\n",
       "      <th>geometry</th>\n",
       "      <th>record_count</th>\n",
       "    </tr>\n",
       "  </thead>\n",
       "  <tbody>\n",
       "    <tr>\n",
       "      <th>703</th>\n",
       "      <td>50</td>\n",
       "      <td>573</td>\n",
       "      <td>50573</td>\n",
       "      <td>META</td>\n",
       "      <td>PUERTO LÓPEZ</td>\n",
       "      <td>Decreto 2543 de 1955</td>\n",
       "      <td>6913.346576</td>\n",
       "      <td>4</td>\n",
       "      <td>2021</td>\n",
       "      <td>MUNICIPIO</td>\n",
       "      <td>6.006052</td>\n",
       "      <td>0.562628</td>\n",
       "      <td>POLYGON ((-72.15353 4.44037, -72.15195 4.44000...</td>\n",
       "      <td>71</td>\n",
       "    </tr>\n",
       "  </tbody>\n",
       "</table>\n",
       "</div>"
      ],
      "text/plain": [
       "    DPTO_CCDGO MPIO_CCDGO MPIO_CDPMP DPTO_CNMBR    MPIO_CNMBR  \\\n",
       "703         50        573      50573       META  PUERTO LÓPEZ   \n",
       "\n",
       "               MPIO_CRSLC   MPIO_NAREA MPIO_CSMBL  MPIO_VGNC  MPIO_TIPO  \\\n",
       "703  Decreto 2543 de 1955  6913.346576          4       2021  MUNICIPIO   \n",
       "\n",
       "     Shape_Leng  Shape_Area  \\\n",
       "703    6.006052    0.562628   \n",
       "\n",
       "                                              geometry  record_count  \n",
       "703  POLYGON ((-72.15353 4.44037, -72.15195 4.44000...            71  "
      ]
     },
     "execution_count": 35,
     "metadata": {},
     "output_type": "execute_result"
    }
   ],
   "source": [
    "# Municipality with highest value of cases\n",
    "geo_mun[geo_mun.record_count == geo_mun.record_count.max()]"
   ]
  },
  {
   "cell_type": "code",
   "execution_count": 36,
   "id": "8726090d-b7d0-4f1e-b45b-92968263da9c",
   "metadata": {},
   "outputs": [
    {
     "data": {
      "text/plain": [
       "<AxesSubplot:>"
      ]
     },
     "execution_count": 36,
     "metadata": {},
     "output_type": "execute_result"
    },
    {
     "data": {
      "image/png": "[encoded data removed]",
      "text/plain": [
       "<Figure size 864x648 with 1 Axes>"
      ]
     },
     "metadata": {
      "needs_background": "light"
     },
     "output_type": "display_data"
    }
   ],
   "source": [
    "# Plotting by record count\n",
    "fig, ax = plt.subplots(1,1, figsize=(12,9))\n",
    "geo_mun.plot(column='record_count',ax=ax)"
   ]
  },
  {
   "cell_type": "markdown",
   "id": "d04cd0ab-ba19-4285-bbaa-0e104af1e930",
   "metadata": {},
   "source": [
    "### Record rate"
   ]
  },
  {
   "cell_type": "markdown",
   "id": "ed3da6c6-de91-430a-8b0c-a341369e3c9f",
   "metadata": {},
   "source": [
    "The jaguar record rate (records/area) is a result of the relation of the number of records and the area of each municipality (squared meteres).\n",
    "\n",
    "__Record date =__ (number of cases) / (squared meters) "
   ]
  },
  {
   "cell_type": "code",
   "execution_count": 37,
   "id": "1395bc80-7828-4da1-adc1-8496aed5b1c2",
   "metadata": {},
   "outputs": [],
   "source": [
    "# Creates the new feature\n",
    "geo_mun['record_rate'] = 0"
   ]
  },
  {
   "cell_type": "code",
   "execution_count": 38,
   "id": "3c96097a-ef9d-4903-90d2-e86c8ea8ab07",
   "metadata": {},
   "outputs": [],
   "source": [
    "geo_mun['record_rate'] = (geo_mun.record_count)/(geo_mun.MPIO_NAREA)"
   ]
  },
  {
   "cell_type": "code",
   "execution_count": 39,
   "id": "1a50d149-c0b0-49e1-8090-698f10992c9d",
   "metadata": {},
   "outputs": [
    {
     "data": {
      "text/plain": [
       "count    1121.000000\n",
       "mean        0.000477\n",
       "std         0.003383\n",
       "min         0.000000\n",
       "25%         0.000000\n",
       "50%         0.000000\n",
       "75%         0.000000\n",
       "max         0.071324\n",
       "Name: record_rate, dtype: float64"
      ]
     },
     "execution_count": 39,
     "metadata": {},
     "output_type": "execute_result"
    }
   ],
   "source": [
    "geo_mun['record_rate'].describe()"
   ]
  },
  {
   "cell_type": "code",
   "execution_count": 40,
   "id": "259077af-4939-41b9-aca6-a03d7475ce57",
   "metadata": {},
   "outputs": [
    {
     "data": {
      "text/html": [
       "<div>\n",
       "<style scoped>\n",
       "    .dataframe tbody tr th:only-of-type {\n",
       "        vertical-align: middle;\n",
       "    }\n",
       "\n",
       "    .dataframe tbody tr th {\n",
       "        vertical-align: top;\n",
       "    }\n",
       "\n",
       "    .dataframe thead th {\n",
       "        text-align: right;\n",
       "    }\n",
       "</style>\n",
       "<table border=\"1\" class=\"dataframe\">\n",
       "  <thead>\n",
       "    <tr style=\"text-align: right;\">\n",
       "      <th></th>\n",
       "      <th>DPTO_CCDGO</th>\n",
       "      <th>MPIO_CCDGO</th>\n",
       "      <th>MPIO_CDPMP</th>\n",
       "      <th>DPTO_CNMBR</th>\n",
       "      <th>MPIO_CNMBR</th>\n",
       "      <th>MPIO_CRSLC</th>\n",
       "      <th>MPIO_NAREA</th>\n",
       "      <th>MPIO_CSMBL</th>\n",
       "      <th>MPIO_VGNC</th>\n",
       "      <th>MPIO_TIPO</th>\n",
       "      <th>Shape_Leng</th>\n",
       "      <th>Shape_Area</th>\n",
       "      <th>geometry</th>\n",
       "      <th>record_count</th>\n",
       "      <th>record_rate</th>\n",
       "    </tr>\n",
       "  </thead>\n",
       "  <tbody>\n",
       "    <tr>\n",
       "      <th>494</th>\n",
       "      <td>25</td>\n",
       "      <td>326</td>\n",
       "      <td>25326</td>\n",
       "      <td>CUNDINAMARCA</td>\n",
       "      <td>GUATAVITA</td>\n",
       "      <td>1593</td>\n",
       "      <td>252.369863</td>\n",
       "      <td>4</td>\n",
       "      <td>2021</td>\n",
       "      <td>MUNICIPIO</td>\n",
       "      <td>0.749889</td>\n",
       "      <td>0.020576</td>\n",
       "      <td>POLYGON ((-73.84163 4.98006, -73.84139 4.98004...</td>\n",
       "      <td>18</td>\n",
       "      <td>0.071324</td>\n",
       "    </tr>\n",
       "  </tbody>\n",
       "</table>\n",
       "</div>"
      ],
      "text/plain": [
       "    DPTO_CCDGO MPIO_CCDGO MPIO_CDPMP    DPTO_CNMBR MPIO_CNMBR MPIO_CRSLC  \\\n",
       "494         25        326      25326  CUNDINAMARCA  GUATAVITA       1593   \n",
       "\n",
       "     MPIO_NAREA MPIO_CSMBL  MPIO_VGNC  MPIO_TIPO  Shape_Leng  Shape_Area  \\\n",
       "494  252.369863          4       2021  MUNICIPIO    0.749889    0.020576   \n",
       "\n",
       "                                              geometry  record_count  \\\n",
       "494  POLYGON ((-73.84163 4.98006, -73.84139 4.98004...            18   \n",
       "\n",
       "     record_rate  \n",
       "494     0.071324  "
      ]
     },
     "execution_count": 40,
     "metadata": {},
     "output_type": "execute_result"
    }
   ],
   "source": [
    "# Municipality with highest rate\n",
    "geo_mun[geo_mun.record_rate == geo_mun.record_rate.max()]"
   ]
  },
  {
   "cell_type": "code",
   "execution_count": 41,
   "id": "7ece46c1-7cf9-4f07-b8a4-5906affc2315",
   "metadata": {},
   "outputs": [
    {
     "data": {
      "text/plain": [
       "<AxesSubplot:>"
      ]
     },
     "execution_count": 41,
     "metadata": {},
     "output_type": "execute_result"
    },
    {
     "data": {
      "image/png": "[encoded data removed]",
      "text/plain": [
       "<Figure size 864x648 with 1 Axes>"
      ]
     },
     "metadata": {
      "needs_background": "light"
     },
     "output_type": "display_data"
    }
   ],
   "source": [
    "# Plotting by record count\n",
    "fig, ax = plt.subplots(1,1, figsize=(12,9))\n",
    "geo_mun.plot(column='record_rate',ax=ax)"
   ]
  },
  {
   "cell_type": "markdown",
   "id": "6c136c96-2869-43d5-9cd4-40e0eec08f32",
   "metadata": {},
   "source": [
    "## National parks"
   ]
  },
  {
   "cell_type": "markdown",
   "id": "8ea12f39-9aad-4e42-9370-8498f50de407",
   "metadata": {},
   "source": [
    "### Area"
   ]
  },
  {
   "cell_type": "code",
   "execution_count": null,
   "id": "b9c16e9d-26b4-4179-9076-033798944a43",
   "metadata": {},
   "outputs": [],
   "source": []
  },
  {
   "cell_type": "code",
   "execution_count": 42,
   "id": "0f68810c-6298-46d0-a3a9-2866502fc863",
   "metadata": {},
   "outputs": [],
   "source": [
    "# Intersection between mun and park\n",
    "# intersection_parks = gpd.overlay(geo_mun, geo_park, how='intersection')"
   ]
  },
  {
   "cell_type": "markdown",
   "id": "b089924b-c375-4abc-a5d0-442fa1aeaf19",
   "metadata": {},
   "source": [
    "**Review resulting geometry**"
   ]
  },
  {
   "cell_type": "code",
   "execution_count": 43,
   "id": "ea2d1a81-1414-4dd2-9f74-167d7ce07702",
   "metadata": {},
   "outputs": [],
   "source": [
    "# # Plotting\n",
    "# fig, ax = plt.subplots(1,1, figsize=(12,9))\n",
    "# intersection_parks.plot(ax=ax)"
   ]
  },
  {
   "cell_type": "code",
   "execution_count": 44,
   "id": "3c767b2b-f9ca-4b16-abf0-c646f65ebbbc",
   "metadata": {},
   "outputs": [],
   "source": [
    "# intersection_parks.head(1)"
   ]
  },
  {
   "cell_type": "code",
   "execution_count": 45,
   "id": "9f433fc8-cb5e-4e32-b9ed-34a24a6af248",
   "metadata": {},
   "outputs": [],
   "source": [
    "# # Plotting\n",
    "# fig, ax = plt.subplots(1,1, figsize=(12,9))\n",
    "# intersection_parks.head(1).plot(ax=ax)"
   ]
  },
  {
   "cell_type": "code",
   "execution_count": 46,
   "id": "f3c06437-d49f-4389-b73c-980033223ca6",
   "metadata": {},
   "outputs": [],
   "source": [
    "# geo_mun[geo_mun.MPIO_CDPMP == '05004']"
   ]
  },
  {
   "cell_type": "code",
   "execution_count": 47,
   "id": "72bfda38-1994-4897-b36f-59841f00f1a5",
   "metadata": {},
   "outputs": [],
   "source": [
    "# fig, ax = plt.subplots(1,1, figsize=(12,9))\n",
    "# geo_mun[geo_mun.MPIO_CDPMP == '05004'].plot(ax=ax)"
   ]
  },
  {
   "cell_type": "code",
   "execution_count": 48,
   "id": "9ae88576-734f-49ea-bf38-443715118d5a",
   "metadata": {},
   "outputs": [],
   "source": [
    "# Function for calculatins intercepting area percentage\n",
    "def calculate_intersection_percentage(initial_df, intersecting_df, new_column_name):\n",
    "    # Create a new column in the initial DataFrame\n",
    "    initial_df[new_column_name] = None\n",
    "\n",
    "    # Iterate over each polygon in the initial DataFrame\n",
    "    for idx, polygon in initial_df.iterrows():\n",
    "        intersection = initial_df.geometry[idx].intersection(intersecting_df.unary_union)\n",
    "        intersection_area = intersection.area\n",
    "        percentage = (intersection_area / initial_df.geometry[idx].area)\n",
    "        initial_df.at[idx, new_column_name] = float(percentage)\n",
    "    initial_df[new_column_name] = pd.to_numeric(initial_df[new_column_name])\n",
    "\n",
    "    return initial_df"
   ]
  },
  {
   "cell_type": "code",
   "execution_count": 49,
   "id": "451b9b2b-1f14-49ff-9442-3170c1e84bbc",
   "metadata": {},
   "outputs": [],
   "source": [
    "geo_mun = calculate_intersection_percentage(geo_mun, geo_park, 'percentage_area_park')"
   ]
  },
  {
   "cell_type": "code",
   "execution_count": 53,
   "id": "63bcb1ce-5402-4a6f-b8a0-aa44242a77d8",
   "metadata": {},
   "outputs": [
    {
     "data": {
      "text/html": [
       "<div>\n",
       "<style scoped>\n",
       "    .dataframe tbody tr th:only-of-type {\n",
       "        vertical-align: middle;\n",
       "    }\n",
       "\n",
       "    .dataframe tbody tr th {\n",
       "        vertical-align: top;\n",
       "    }\n",
       "\n",
       "    .dataframe thead th {\n",
       "        text-align: right;\n",
       "    }\n",
       "</style>\n",
       "<table border=\"1\" class=\"dataframe\">\n",
       "  <thead>\n",
       "    <tr style=\"text-align: right;\">\n",
       "      <th></th>\n",
       "      <th>DPTO_CCDGO</th>\n",
       "      <th>MPIO_CCDGO</th>\n",
       "      <th>MPIO_CDPMP</th>\n",
       "      <th>DPTO_CNMBR</th>\n",
       "      <th>MPIO_CNMBR</th>\n",
       "      <th>MPIO_CRSLC</th>\n",
       "      <th>MPIO_NAREA</th>\n",
       "      <th>MPIO_CSMBL</th>\n",
       "      <th>MPIO_VGNC</th>\n",
       "      <th>MPIO_TIPO</th>\n",
       "      <th>Shape_Leng</th>\n",
       "      <th>Shape_Area</th>\n",
       "      <th>geometry</th>\n",
       "      <th>record_count</th>\n",
       "      <th>record_rate</th>\n",
       "      <th>percentage_area_park</th>\n",
       "    </tr>\n",
       "  </thead>\n",
       "  <tbody>\n",
       "    <tr>\n",
       "      <th>0</th>\n",
       "      <td>05</td>\n",
       "      <td>001</td>\n",
       "      <td>05001</td>\n",
       "      <td>ANTIOQUIA</td>\n",
       "      <td>MEDELLÍN</td>\n",
       "      <td>1965</td>\n",
       "      <td>374.812877</td>\n",
       "      <td>4</td>\n",
       "      <td>2021</td>\n",
       "      <td>MUNICIPIO</td>\n",
       "      <td>1.032546</td>\n",
       "      <td>0.030606</td>\n",
       "      <td>POLYGON ((-75.66974 6.37360, -75.66965 6.37360...</td>\n",
       "      <td>0</td>\n",
       "      <td>0.0</td>\n",
       "      <td>0.0</td>\n",
       "    </tr>\n",
       "    <tr>\n",
       "      <th>1</th>\n",
       "      <td>05</td>\n",
       "      <td>002</td>\n",
       "      <td>05002</td>\n",
       "      <td>ANTIOQUIA</td>\n",
       "      <td>ABEJORRAL</td>\n",
       "      <td>1814</td>\n",
       "      <td>507.141095</td>\n",
       "      <td>4</td>\n",
       "      <td>2021</td>\n",
       "      <td>MUNICIPIO</td>\n",
       "      <td>1.158504</td>\n",
       "      <td>0.041384</td>\n",
       "      <td>POLYGON ((-75.46938 5.94575, -75.46897 5.94571...</td>\n",
       "      <td>0</td>\n",
       "      <td>0.0</td>\n",
       "      <td>0.0</td>\n",
       "    </tr>\n",
       "    <tr>\n",
       "      <th>2</th>\n",
       "      <td>05</td>\n",
       "      <td>004</td>\n",
       "      <td>05004</td>\n",
       "      <td>ANTIOQUIA</td>\n",
       "      <td>ABRIAQUÍ</td>\n",
       "      <td>1912</td>\n",
       "      <td>296.894050</td>\n",
       "      <td>4</td>\n",
       "      <td>2021</td>\n",
       "      <td>MUNICIPIO</td>\n",
       "      <td>0.812183</td>\n",
       "      <td>0.024248</td>\n",
       "      <td>POLYGON ((-76.08351 6.75050, -76.08325 6.75048...</td>\n",
       "      <td>0</td>\n",
       "      <td>0.0</td>\n",
       "      <td>0.034694</td>\n",
       "    </tr>\n",
       "  </tbody>\n",
       "</table>\n",
       "</div>"
      ],
      "text/plain": [
       "  DPTO_CCDGO MPIO_CCDGO MPIO_CDPMP DPTO_CNMBR MPIO_CNMBR MPIO_CRSLC  \\\n",
       "0         05        001      05001  ANTIOQUIA   MEDELLÍN       1965   \n",
       "1         05        002      05002  ANTIOQUIA  ABEJORRAL       1814   \n",
       "2         05        004      05004  ANTIOQUIA   ABRIAQUÍ       1912   \n",
       "\n",
       "   MPIO_NAREA MPIO_CSMBL  MPIO_VGNC  MPIO_TIPO  Shape_Leng  Shape_Area  \\\n",
       "0  374.812877          4       2021  MUNICIPIO    1.032546    0.030606   \n",
       "1  507.141095          4       2021  MUNICIPIO    1.158504    0.041384   \n",
       "2  296.894050          4       2021  MUNICIPIO    0.812183    0.024248   \n",
       "\n",
       "                                            geometry  record_count  \\\n",
       "0  POLYGON ((-75.66974 6.37360, -75.66965 6.37360...             0   \n",
       "1  POLYGON ((-75.46938 5.94575, -75.46897 5.94571...             0   \n",
       "2  POLYGON ((-76.08351 6.75050, -76.08325 6.75048...             0   \n",
       "\n",
       "   record_rate percentage_area_park  \n",
       "0          0.0                  0.0  \n",
       "1          0.0                  0.0  \n",
       "2          0.0             0.034694  "
      ]
     },
     "execution_count": 53,
     "metadata": {},
     "output_type": "execute_result"
    }
   ],
   "source": [
    "geo_mun.head(3)"
   ]
  },
  {
   "cell_type": "code",
   "execution_count": 55,
   "id": "cee71d5a-3fc9-4aeb-b92b-22b6a91e4111",
   "metadata": {},
   "outputs": [
    {
     "data": {
      "text/html": [
       "<div>\n",
       "<style scoped>\n",
       "    .dataframe tbody tr th:only-of-type {\n",
       "        vertical-align: middle;\n",
       "    }\n",
       "\n",
       "    .dataframe tbody tr th {\n",
       "        vertical-align: top;\n",
       "    }\n",
       "\n",
       "    .dataframe thead th {\n",
       "        text-align: right;\n",
       "    }\n",
       "</style>\n",
       "<table border=\"1\" class=\"dataframe\">\n",
       "  <thead>\n",
       "    <tr style=\"text-align: right;\">\n",
       "      <th></th>\n",
       "      <th>MPIO_NAREA</th>\n",
       "      <th>MPIO_VGNC</th>\n",
       "      <th>Shape_Leng</th>\n",
       "      <th>Shape_Area</th>\n",
       "      <th>record_count</th>\n",
       "      <th>record_rate</th>\n",
       "    </tr>\n",
       "  </thead>\n",
       "  <tbody>\n",
       "    <tr>\n",
       "      <th>count</th>\n",
       "      <td>1121.000000</td>\n",
       "      <td>1121.0</td>\n",
       "      <td>1121.000000</td>\n",
       "      <td>1121.000000</td>\n",
       "      <td>1121.000000</td>\n",
       "      <td>1121.000000</td>\n",
       "    </tr>\n",
       "    <tr>\n",
       "      <th>mean</th>\n",
       "      <td>1017.816485</td>\n",
       "      <td>2021.0</td>\n",
       "      <td>1.482910</td>\n",
       "      <td>0.082813</td>\n",
       "      <td>0.485281</td>\n",
       "      <td>0.000477</td>\n",
       "    </tr>\n",
       "    <tr>\n",
       "      <th>std</th>\n",
       "      <td>3219.209192</td>\n",
       "      <td>0.0</td>\n",
       "      <td>1.712757</td>\n",
       "      <td>0.260928</td>\n",
       "      <td>3.354901</td>\n",
       "      <td>0.003383</td>\n",
       "    </tr>\n",
       "    <tr>\n",
       "      <th>min</th>\n",
       "      <td>15.828783</td>\n",
       "      <td>2021.0</td>\n",
       "      <td>0.173409</td>\n",
       "      <td>0.001292</td>\n",
       "      <td>0.000000</td>\n",
       "      <td>0.000000</td>\n",
       "    </tr>\n",
       "    <tr>\n",
       "      <th>25%</th>\n",
       "      <td>132.755935</td>\n",
       "      <td>2021.0</td>\n",
       "      <td>0.615772</td>\n",
       "      <td>0.010835</td>\n",
       "      <td>0.000000</td>\n",
       "      <td>0.000000</td>\n",
       "    </tr>\n",
       "    <tr>\n",
       "      <th>50%</th>\n",
       "      <td>287.807945</td>\n",
       "      <td>2021.0</td>\n",
       "      <td>0.970994</td>\n",
       "      <td>0.023515</td>\n",
       "      <td>0.000000</td>\n",
       "      <td>0.000000</td>\n",
       "    </tr>\n",
       "    <tr>\n",
       "      <th>75%</th>\n",
       "      <td>704.098431</td>\n",
       "      <td>2021.0</td>\n",
       "      <td>1.656029</td>\n",
       "      <td>0.057297</td>\n",
       "      <td>0.000000</td>\n",
       "      <td>0.000000</td>\n",
       "    </tr>\n",
       "    <tr>\n",
       "      <th>max</th>\n",
       "      <td>65597.250559</td>\n",
       "      <td>2021.0</td>\n",
       "      <td>20.045859</td>\n",
       "      <td>5.308583</td>\n",
       "      <td>71.000000</td>\n",
       "      <td>0.071324</td>\n",
       "    </tr>\n",
       "  </tbody>\n",
       "</table>\n",
       "</div>"
      ],
      "text/plain": [
       "         MPIO_NAREA  MPIO_VGNC   Shape_Leng   Shape_Area  record_count  \\\n",
       "count   1121.000000     1121.0  1121.000000  1121.000000   1121.000000   \n",
       "mean    1017.816485     2021.0     1.482910     0.082813      0.485281   \n",
       "std     3219.209192        0.0     1.712757     0.260928      3.354901   \n",
       "min       15.828783     2021.0     0.173409     0.001292      0.000000   \n",
       "25%      132.755935     2021.0     0.615772     0.010835      0.000000   \n",
       "50%      287.807945     2021.0     0.970994     0.023515      0.000000   \n",
       "75%      704.098431     2021.0     1.656029     0.057297      0.000000   \n",
       "max    65597.250559     2021.0    20.045859     5.308583     71.000000   \n",
       "\n",
       "       record_rate  \n",
       "count  1121.000000  \n",
       "mean      0.000477  \n",
       "std       0.003383  \n",
       "min       0.000000  \n",
       "25%       0.000000  \n",
       "50%       0.000000  \n",
       "75%       0.000000  \n",
       "max       0.071324  "
      ]
     },
     "execution_count": 55,
     "metadata": {},
     "output_type": "execute_result"
    }
   ],
   "source": [
    "geo_mun.describe()\n"
   ]
  },
  {
   "cell_type": "code",
   "execution_count": 51,
   "id": "81034e82-956b-442f-b08a-ebdf71be1ba7",
   "metadata": {},
   "outputs": [
    {
     "name": "stdout",
     "output_type": "stream",
     "text": [
      "<class 'geopandas.geodataframe.GeoDataFrame'>\n",
      "RangeIndex: 1121 entries, 0 to 1120\n",
      "Data columns (total 16 columns):\n",
      " #   Column                Non-Null Count  Dtype   \n",
      "---  ------                --------------  -----   \n",
      " 0   DPTO_CCDGO            1121 non-null   object  \n",
      " 1   MPIO_CCDGO            1121 non-null   object  \n",
      " 2   MPIO_CDPMP            1121 non-null   object  \n",
      " 3   DPTO_CNMBR            1121 non-null   object  \n",
      " 4   MPIO_CNMBR            1121 non-null   object  \n",
      " 5   MPIO_CRSLC            1121 non-null   object  \n",
      " 6   MPIO_NAREA            1121 non-null   float64 \n",
      " 7   MPIO_CSMBL            1121 non-null   object  \n",
      " 8   MPIO_VGNC             1121 non-null   int64   \n",
      " 9   MPIO_TIPO             1121 non-null   object  \n",
      " 10  Shape_Leng            1121 non-null   float64 \n",
      " 11  Shape_Area            1121 non-null   float64 \n",
      " 12  geometry              1121 non-null   geometry\n",
      " 13  record_count          1121 non-null   int64   \n",
      " 14  record_rate           1121 non-null   float64 \n",
      " 15  percentage_area_park  1121 non-null   object  \n",
      "dtypes: float64(4), geometry(1), int64(2), object(9)\n",
      "memory usage: 140.2+ KB\n"
     ]
    }
   ],
   "source": [
    "geo_mun.info()"
   ]
  },
  {
   "cell_type": "markdown",
   "id": "1ce3cd93-928a-4af6-9e09-989c72facdb9",
   "metadata": {},
   "source": [
    "### Distance"
   ]
  }
 ],
 "metadata": {
  "kernelspec": {
   "display_name": "Python 3 (ipykernel)",
   "language": "python",
   "name": "python3"
  },
  "language_info": {
   "codemirror_mode": {
    "name": "ipython",
    "version": 3
   },
   "file_extension": ".py",
   "mimetype": "text/x-python",
   "name": "python",
   "nbconvert_exporter": "python",
   "pygments_lexer": "ipython3",
   "version": "3.10.5"
  },
  "toc-autonumbering": false
 },
 "nbformat": 4,
 "nbformat_minor": 5
}
