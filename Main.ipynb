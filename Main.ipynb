{
 "cells": [
  {
   "cell_type": "markdown",
   "id": "24d4e9e4-5d74-4baa-8b05-129eaf4b4c9f",
   "metadata": {},
   "source": [
    "<div style=\"float:left\">\n",
    "    <h1 style=\"width:600px\">Technical assessment</h1>\n",
    "    <h3 style=\"width:600px\">Solution Engineer position</h3>\n",
    "    <h3 style=\"width:600px\">Author: Andres Restrepo</h3>\n",
    "\n",
    "</div>\n",
    "<div style=\"float: right; display: flex; align-items: center;\">\n",
    "    <img width=\"260\" src=\"Logo/logo_CARTO_positive_180.png\" />\n",
    "</div>"
   ]
  },
  {
   "cell_type": "code",
   "execution_count": null,
   "id": "96ac6e53-eca1-44aa-97dc-b0e23381d1d8",
   "metadata": {},
   "outputs": [],
   "source": []
  }
 ],
 "metadata": {
  "kernelspec": {
   "display_name": "Python 3 (ipykernel)",
   "language": "python",
   "name": "python3"
  },
  "language_info": {
   "codemirror_mode": {
    "name": "ipython",
    "version": 3
   },
   "file_extension": ".py",
   "mimetype": "text/x-python",
   "name": "python",
   "nbconvert_exporter": "python",
   "pygments_lexer": "ipython3",
   "version": "3.10.5"
  }
 },
 "nbformat": 4,
 "nbformat_minor": 5
}
