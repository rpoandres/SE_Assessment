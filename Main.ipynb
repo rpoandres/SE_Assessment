{
 "cells": [
  {
   "cell_type": "markdown",
   "id": "df938bed-5bb4-4987-9cb9-7dfd8b71eccb",
   "metadata": {},
   "source": [
    "<div style=\"float:left\">\n",
    "    <h1 style=\"width:600px\">Technical assessment</h1>\n",
    "    <h3 style=\"width:600px\">Solution Engineer position</h3>\n",
    "    <h3 style=\"width:600px\">Author: Andres Restrepo</h3>\n",
    "\n",
    "</div>\n",
    "<div style=\"float: right; display: flex; align-items: center;\">\n",
    "    <img width=\"260\" src=\"Logo/logo_CARTO_positive_180.png\" />\n",
    "</div>"
   ]
  },
  {
   "cell_type": "markdown",
   "id": "66ec8d0b-319a-49c4-afe2-e536b0c6d317",
   "metadata": {},
   "source": [
    "## Libraries"
   ]
  },
  {
   "cell_type": "code",
   "execution_count": 2,
   "id": "4f352ae5-f10b-4224-9b7a-35a57b25ca77",
   "metadata": {},
   "outputs": [],
   "source": [
    "import geopandas as gpd\n",
    "import numpy as np\n",
    "import pandas as pd"
   ]
  },
  {
   "cell_type": "markdown",
   "id": "3af02b6b-d016-429e-b2d0-59977da0454e",
   "metadata": {},
   "source": [
    "# Data"
   ]
  },
  {
   "cell_type": "markdown",
   "id": "a946c6f8-2d9e-44c6-aadc-d69c8af06ea0",
   "metadata": {},
   "source": [
    "Do not know if folders for mun neccesary.\n",
    "Subsect the puma data with just colombia.\n",
    "Caclulate counts and rate per area.\n",
    "\n"
   ]
  }
 ],
 "metadata": {
  "kernelspec": {
   "display_name": "Python 3 (ipykernel)",
   "language": "python",
   "name": "python3"
  },
  "language_info": {
   "codemirror_mode": {
    "name": "ipython",
    "version": 3
   },
   "file_extension": ".py",
   "mimetype": "text/x-python",
   "name": "python",
   "nbconvert_exporter": "python",
   "pygments_lexer": "ipython3",
   "version": "3.10.5"
  },
  "toc-autonumbering": false
 },
 "nbformat": 4,
 "nbformat_minor": 5
}
